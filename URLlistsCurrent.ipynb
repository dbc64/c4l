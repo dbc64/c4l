{
 "cells": [
  {
   "cell_type": "code",
   "execution_count": 15,
   "id": "de49a147",
   "metadata": {},
   "outputs": [
    {
     "name": "stdout",
     "output_type": "stream",
     "text": [
      "Requirement already satisfied: bs4 in /Users/User/opt/anaconda3/lib/python3.8/site-packages (0.0.1)\n",
      "Requirement already satisfied: beautifulsoup4 in /Users/User/opt/anaconda3/lib/python3.8/site-packages (from bs4) (4.10.0)\n",
      "Requirement already satisfied: soupsieve>1.2 in /Users/User/opt/anaconda3/lib/python3.8/site-packages (from beautifulsoup4->bs4) (2.3.1)\n",
      "Note: you may need to restart the kernel to use updated packages.\n"
     ]
    }
   ],
   "source": [
    "pip install bs4"
   ]
  },
  {
   "cell_type": "code",
   "execution_count": 21,
   "id": "c72cb1bc",
   "metadata": {},
   "outputs": [
    {
     "name": "stdout",
     "output_type": "stream",
     "text": [
      "Collecting package metadata (current_repodata.json): done\n",
      "Solving environment: done\n",
      "\n",
      "# All requested packages already installed.\n",
      "\n",
      "\n",
      "Note: you may need to restart the kernel to use updated packages.\n"
     ]
    }
   ],
   "source": [
    "conda install -c conda-forge scrapy"
   ]
  },
  {
   "cell_type": "code",
   "execution_count": 3,
   "id": "0c22386b",
   "metadata": {},
   "outputs": [
    {
     "name": "stdout",
     "output_type": "stream",
     "text": [
      "Requirement already satisfied: shub in /Users/User/opt/anaconda3/lib/python3.8/site-packages (2.13.0)\n",
      "Requirement already satisfied: click==7.0 in /Users/User/opt/anaconda3/lib/python3.8/site-packages (from shub) (7.0)\n",
      "Requirement already satisfied: scrapinghub>=2.3.1 in /Users/User/opt/anaconda3/lib/python3.8/site-packages (from shub) (2.3.1)\n",
      "Requirement already satisfied: docker in /Users/User/opt/anaconda3/lib/python3.8/site-packages (from shub) (5.0.3)\n",
      "Requirement already satisfied: PyYAML in /Users/User/opt/anaconda3/lib/python3.8/site-packages (from shub) (6.0)\n",
      "Requirement already satisfied: requests in /Users/User/opt/anaconda3/lib/python3.8/site-packages (from shub) (2.26.0)\n",
      "Requirement already satisfied: pip in /Users/User/opt/anaconda3/lib/python3.8/site-packages (from shub) (21.3.1)\n",
      "Requirement already satisfied: retrying in /Users/User/opt/anaconda3/lib/python3.8/site-packages (from shub) (1.3.3)\n",
      "Requirement already satisfied: tqdm==4.55.1 in /Users/User/opt/anaconda3/lib/python3.8/site-packages (from shub) (4.55.1)\n",
      "Requirement already satisfied: six>=1.7.0 in /Users/User/opt/anaconda3/lib/python3.8/site-packages (from shub) (1.16.0)\n",
      "Requirement already satisfied: toml in /Users/User/opt/anaconda3/lib/python3.8/site-packages (from shub) (0.10.2)\n",
      "Requirement already satisfied: idna<4,>=2.5 in /Users/User/opt/anaconda3/lib/python3.8/site-packages (from requests->shub) (3.3)\n",
      "Requirement already satisfied: urllib3<1.27,>=1.21.1 in /Users/User/opt/anaconda3/lib/python3.8/site-packages (from requests->shub) (1.26.7)\n",
      "Requirement already satisfied: certifi>=2017.4.17 in /Users/User/opt/anaconda3/lib/python3.8/site-packages (from requests->shub) (2021.10.8)\n",
      "Requirement already satisfied: charset-normalizer~=2.0.0 in /Users/User/opt/anaconda3/lib/python3.8/site-packages (from requests->shub) (2.0.4)\n",
      "Requirement already satisfied: websocket-client>=0.32.0 in /Users/User/opt/anaconda3/lib/python3.8/site-packages (from docker->shub) (1.2.3)\n",
      "Note: you may need to restart the kernel to use updated packages.\n"
     ]
    }
   ],
   "source": [
    "pip install shub --upgrade"
   ]
  },
  {
   "cell_type": "code",
   "execution_count": 11,
   "id": "a6f5e5a7",
   "metadata": {},
   "outputs": [],
   "source": [
    "cat > myspider.py <<EOF"
   ]
  },
  {
   "cell_type": "code",
   "execution_count": 16,
   "id": "e16cfc02",
   "metadata": {},
   "outputs": [],
   "source": [
    "#import required modules\n",
    "import requests\n",
    "import time\n",
    "from bs4 import BeautifulSoup\n",
    "import urllib\n",
    "import urllib.request\n",
    "from bs4 import SoupStrainer\n",
    "from pprint import pprint"
   ]
  },
  {
   "cell_type": "code",
   "execution_count": 3,
   "id": "c14d8c26",
   "metadata": {},
   "outputs": [
    {
     "name": "stderr",
     "output_type": "stream",
     "text": [
      "/opt/anaconda3/lib/python3.8/site-packages/urllib3/connectionpool.py:1013: InsecureRequestWarning: Unverified HTTPS request is being made to host 'www.justice.gov'. Adding certificate verification is strongly advised. See: https://urllib3.readthedocs.io/en/latest/advanced-usage.html#ssl-warnings\n",
      "  warnings.warn(\n"
     ]
    }
   ],
   "source": [
    "#web URLs to scrape \n",
    "#Part II only since this is the OCIJ policy manual\n",
    "#i think this is scraping text only\n",
    "url = \"https://www.justice.gov/eoir/eoir-policy-manual/part-ii-ocij-practice-manual\"\n",
    "\n",
    "#get URL content\n",
    "response = requests.get(url,verify=False)\n",
    "\n",
    "#print(response.text)\n",
    "html = response.text\n",
    "\n",
    "#parse HTML Code\n",
    "soup = BeautifulSoup(html,'html.parser')\n",
    "#print(soup)\n",
    "#print(soup.prettify())\n"
   ]
  },
  {
   "cell_type": "code",
   "execution_count": 4,
   "id": "c6b69c90",
   "metadata": {
    "scrolled": true
   },
   "outputs": [
    {
     "name": "stdout",
     "output_type": "stream",
     "text": [
      "['https://www.justice.gov/eoir/eoir-policy-manual/ii/intro',\n",
      " 'https://www.justice.gov/eoir/eoir-policy-manual/1',\n",
      " 'https://www.justice.gov/eoir/eoir-policy-manual/2',\n",
      " 'https://www.justice.gov/eoir/eoir-policy-manual/3',\n",
      " 'https://www.justice.gov/eoir/eoir-policy-manual/chapter-4',\n",
      " 'https://www.justice.gov/eoir/eoir-policy-manual/5',\n",
      " 'https://www.justice.gov/eoir/eoir-policy-manual/chapter-6-appeals-immigration-judge-decisions',\n",
      " 'https://www.justice.gov/eoir/eoir-policy-manual/7',\n",
      " 'https://www.justice.gov/eoir/eoir-policy-manual/8',\n",
      " 'https://www.justice.gov/eoir/eoir-policy-manual/9',\n",
      " 'https://www.justice.gov/eoir/eoir-policy-manual/10',\n",
      " 'https://www.justice.gov/eoir/eoir-policy-manual/11',\n",
      " 'https://www.justice.gov/eoir/eoir-policy-manual/12',\n",
      " 'https://www.justice.gov/eoir/eoir-policy-manual/13',\n",
      " 'https://www.justice.gov/eoir/eoir-policy-manual/ii/14']\n"
     ]
    }
   ],
   "source": [
    "#geting all a href links from main page in one list\n",
    "#toc is a list of the headings - text only\n",
    "#links is a list of all the main links to scrape\n",
    "\n",
    "soup = BeautifulSoup(html,'html.parser')\n",
    "links=[]\n",
    "toc=[]\n",
    "\n",
    "baseurl = \"https://www.justice.gov\"\n",
    "rows = soup.find_all('div',attrs={'class':'book-navigation'})\n",
    "for row in rows:\n",
    "    columns=row.find_all('a')\n",
    "    for index,column in enumerate(columns):\n",
    "        #print(index,column)\n",
    "        if(index<15):\n",
    "            toc.append(column.text)\n",
    "#print(toc)\n",
    "            \n",
    "for link in soup.find_all('div',attrs={'class':'book-navigation'}):\n",
    "    rows=link\n",
    "    enumerate(columns)\n",
    "    for index,column in enumerate(columns):\n",
    "        if(index<15):\n",
    "            #print(column.get('href'))\n",
    "            href = column.get('href')\n",
    "            l = baseurl + href\n",
    "            links.append(l)\n",
    "pprint(links)"
   ]
  },
  {
   "cell_type": "code",
   "execution_count": 5,
   "id": "c9e164c5",
   "metadata": {},
   "outputs": [
    {
     "name": "stderr",
     "output_type": "stream",
     "text": [
      "/opt/anaconda3/lib/python3.8/site-packages/urllib3/connectionpool.py:1013: InsecureRequestWarning: Unverified HTTPS request is being made to host 'www.justice.gov'. Adding certificate verification is strongly advised. See: https://urllib3.readthedocs.io/en/latest/advanced-usage.html#ssl-warnings\n",
      "  warnings.warn(\n",
      "/opt/anaconda3/lib/python3.8/site-packages/urllib3/connectionpool.py:1013: InsecureRequestWarning: Unverified HTTPS request is being made to host 'www.justice.gov'. Adding certificate verification is strongly advised. See: https://urllib3.readthedocs.io/en/latest/advanced-usage.html#ssl-warnings\n",
      "  warnings.warn(\n",
      "/opt/anaconda3/lib/python3.8/site-packages/urllib3/connectionpool.py:1013: InsecureRequestWarning: Unverified HTTPS request is being made to host 'www.justice.gov'. Adding certificate verification is strongly advised. See: https://urllib3.readthedocs.io/en/latest/advanced-usage.html#ssl-warnings\n",
      "  warnings.warn(\n",
      "/opt/anaconda3/lib/python3.8/site-packages/urllib3/connectionpool.py:1013: InsecureRequestWarning: Unverified HTTPS request is being made to host 'www.justice.gov'. Adding certificate verification is strongly advised. See: https://urllib3.readthedocs.io/en/latest/advanced-usage.html#ssl-warnings\n",
      "  warnings.warn(\n",
      "/opt/anaconda3/lib/python3.8/site-packages/urllib3/connectionpool.py:1013: InsecureRequestWarning: Unverified HTTPS request is being made to host 'www.justice.gov'. Adding certificate verification is strongly advised. See: https://urllib3.readthedocs.io/en/latest/advanced-usage.html#ssl-warnings\n",
      "  warnings.warn(\n",
      "/opt/anaconda3/lib/python3.8/site-packages/urllib3/connectionpool.py:1013: InsecureRequestWarning: Unverified HTTPS request is being made to host 'www.justice.gov'. Adding certificate verification is strongly advised. See: https://urllib3.readthedocs.io/en/latest/advanced-usage.html#ssl-warnings\n",
      "  warnings.warn(\n",
      "/opt/anaconda3/lib/python3.8/site-packages/urllib3/connectionpool.py:1013: InsecureRequestWarning: Unverified HTTPS request is being made to host 'www.justice.gov'. Adding certificate verification is strongly advised. See: https://urllib3.readthedocs.io/en/latest/advanced-usage.html#ssl-warnings\n",
      "  warnings.warn(\n",
      "/opt/anaconda3/lib/python3.8/site-packages/urllib3/connectionpool.py:1013: InsecureRequestWarning: Unverified HTTPS request is being made to host 'www.justice.gov'. Adding certificate verification is strongly advised. See: https://urllib3.readthedocs.io/en/latest/advanced-usage.html#ssl-warnings\n",
      "  warnings.warn(\n",
      "/opt/anaconda3/lib/python3.8/site-packages/urllib3/connectionpool.py:1013: InsecureRequestWarning: Unverified HTTPS request is being made to host 'www.justice.gov'. Adding certificate verification is strongly advised. See: https://urllib3.readthedocs.io/en/latest/advanced-usage.html#ssl-warnings\n",
      "  warnings.warn(\n",
      "/opt/anaconda3/lib/python3.8/site-packages/urllib3/connectionpool.py:1013: InsecureRequestWarning: Unverified HTTPS request is being made to host 'www.justice.gov'. Adding certificate verification is strongly advised. See: https://urllib3.readthedocs.io/en/latest/advanced-usage.html#ssl-warnings\n",
      "  warnings.warn(\n",
      "/opt/anaconda3/lib/python3.8/site-packages/urllib3/connectionpool.py:1013: InsecureRequestWarning: Unverified HTTPS request is being made to host 'www.justice.gov'. Adding certificate verification is strongly advised. See: https://urllib3.readthedocs.io/en/latest/advanced-usage.html#ssl-warnings\n",
      "  warnings.warn(\n",
      "/opt/anaconda3/lib/python3.8/site-packages/urllib3/connectionpool.py:1013: InsecureRequestWarning: Unverified HTTPS request is being made to host 'www.justice.gov'. Adding certificate verification is strongly advised. See: https://urllib3.readthedocs.io/en/latest/advanced-usage.html#ssl-warnings\n",
      "  warnings.warn(\n",
      "/opt/anaconda3/lib/python3.8/site-packages/urllib3/connectionpool.py:1013: InsecureRequestWarning: Unverified HTTPS request is being made to host 'www.justice.gov'. Adding certificate verification is strongly advised. See: https://urllib3.readthedocs.io/en/latest/advanced-usage.html#ssl-warnings\n",
      "  warnings.warn(\n",
      "/opt/anaconda3/lib/python3.8/site-packages/urllib3/connectionpool.py:1013: InsecureRequestWarning: Unverified HTTPS request is being made to host 'www.justice.gov'. Adding certificate verification is strongly advised. See: https://urllib3.readthedocs.io/en/latest/advanced-usage.html#ssl-warnings\n",
      "  warnings.warn(\n",
      "/opt/anaconda3/lib/python3.8/site-packages/urllib3/connectionpool.py:1013: InsecureRequestWarning: Unverified HTTPS request is being made to host 'www.justice.gov'. Adding certificate verification is strongly advised. See: https://urllib3.readthedocs.io/en/latest/advanced-usage.html#ssl-warnings\n",
      "  warnings.warn(\n"
     ]
    }
   ],
   "source": [
    "#trying to get sub href links onto the list\n",
    "#subtoc is a list of subheading text under each chapter\n",
    "\n",
    "subtoc=[]\n",
    "\n",
    "for link in links:\n",
    "    #print(link)\n",
    "    html = response.text\n",
    "    soup = BeautifulSoup(html,'html.parser')\n",
    "    url = link\n",
    "    response = requests.get(url,verify=False)\n",
    "#     href_tags = soup.find_all(href=True)\n",
    "#     print(href_tags)\n",
    "    for a in soup.find_all('a', href=True):\n",
    "#         if(a.)\n",
    "#         if 'div',attrs={'class':'book-navigation'}:\n",
    "        x = (a['href'])\n",
    "        subtoc.append(x)\n",
    "#print(subtoc)"
   ]
  },
  {
   "cell_type": "code",
   "execution_count": 16,
   "id": "4caeb223",
   "metadata": {},
   "outputs": [
    {
     "name": "stdout",
     "output_type": "stream",
     "text": [
      "['https://www.justice.gov/eoir/eoir-policy-manual/directorletter',\n",
      " 'https://www.justice.gov/eoir/eoir-policy-manual/main',\n",
      " 'https://www.justice.gov/eoir/eoir-policy-manual/i/EOIRleadership',\n",
      " 'https://www.justice.gov/eoir/eoir-policy-manual/part-i-introduction',\n",
      " 'https://www.justice.gov/eoir/eoir-policy-manual/part-ii-ocij-practice-manual',\n",
      " 'https://www.justice.gov/eoir/eoir-policy-manual/ii/intro',\n",
      " 'https://www.justice.gov/eoir/eoir-policy-manual/1',\n",
      " 'https://www.justice.gov/eoir/eoir-policy-manual/2',\n",
      " 'https://www.justice.gov/eoir/eoir-policy-manual/3',\n",
      " 'https://www.justice.gov/eoir/eoir-policy-manual/chapter-4',\n",
      " 'https://www.justice.gov/eoir/eoir-policy-manual/5',\n",
      " 'https://www.justice.gov/eoir/eoir-policy-manual/chapter-6-appeals-immigration-judge-decisions',\n",
      " 'https://www.justice.gov/eoir/eoir-policy-manual/7',\n",
      " 'https://www.justice.gov/eoir/eoir-policy-manual/8',\n",
      " 'https://www.justice.gov/eoir/eoir-policy-manual/9',\n",
      " 'https://www.justice.gov/eoir/eoir-policy-manual/10',\n",
      " 'https://www.justice.gov/eoir/eoir-policy-manual/11',\n",
      " 'https://www.justice.gov/eoir/eoir-policy-manual/12',\n",
      " 'https://www.justice.gov/eoir/eoir-policy-manual/13',\n",
      " 'https://www.justice.gov/eoir/eoir-policy-manual/ii/14',\n",
      " 'https://www.justice.gov/eoir/eoir-policy-manual/iii',\n",
      " 'https://www.justice.gov/eoir/eoir-policy-manual/part-iv-ocaho-practice-manual',\n",
      " 'https://www.justice.gov/eoir/eoir-policy-manual/part-v-miscellaneous',\n",
      " 'https://www.justice.gov/eoir/eoir-policy-manual/vi',\n",
      " 'https://www.justice.gov/eoir/eoir-policy-manual/vii',\n",
      " 'https://www.justice.gov/eoir/eoir-policy-manual/viii',\n",
      " 'https://www.justice.gov/eoir/eoir-policy-manual/VIIII',\n",
      " 'https://www.justice.gov/eoir/eoir-policy-manual/i/7',\n",
      " 'https://www.justice.gov/eoir/eoir-policy-manual/i/1/1',\n",
      " 'https://www.justice.gov/eoir/eoir-policy-manual/ii/1/2',\n",
      " 'https://www.justice.gov/eoir/eoir-policy-manual/ii/1/3',\n",
      " 'https://www.justice.gov/eoir/eoir-policy-manual/ii/1/4',\n",
      " 'https://www.justice.gov/eoir/eoir-policy-manual/ii/1/5',\n",
      " 'https://www.justice.gov/eoir/eoir-policy-manual/ii/1/6',\n",
      " 'https://www.justice.gov/eoir/eoir-policy-manual/2/1',\n",
      " 'https://www.justice.gov/eoir/eoir-policy-manual/2/2',\n",
      " 'https://www.justice.gov/eoir/eoir-policy-manual/2/3',\n",
      " 'https://www.justice.gov/eoir/eoir-policy-manual/2/4',\n",
      " 'https://www.justice.gov/eoir/eoir-policy-manual/2/5',\n",
      " 'https://www.justice.gov/eoir/eoir-policy-manual/2/6',\n",
      " 'https://www.justice.gov/eoir/eoir-policy-manual/2/7',\n",
      " 'https://www.justice.gov/eoir/eoir-policy-manual/2/8',\n",
      " 'https://www.justice.gov/eoir/eoir-policy-manual/2/9',\n",
      " 'https://www.justice.gov/eoir/eoir-policy-manual/ii/3/1',\n",
      " 'https://www.justice.gov/eoir/eoir-policy-manual/3/2',\n",
      " 'https://www.justice.gov/eoir/eoir-policy-manual/3/3',\n",
      " 'https://www.justice.gov/eoir/eoir-policy-manual/3/4',\n",
      " 'https://www.justice.gov/eoir/eoir-policy-manual/4/1',\n",
      " 'https://www.justice.gov/eoir/eoir-policy-manual/4/2',\n",
      " 'https://www.justice.gov/eoir/eoir-policy-manual/4/3',\n",
      " 'https://www.justice.gov/eoir/eoir-policy-manual/4/4',\n",
      " 'https://www.justice.gov/eoir/eoir-policy-manual/ii/4/5',\n",
      " 'https://www.justice.gov/eoir/eoir-policy-manual/4/6',\n",
      " 'https://www.justice.gov/eoir/eoir-policy-manual/4/7',\n",
      " 'https://www.justice.gov/eoir/eoir-policy-manual/4/8',\n",
      " 'https://www.justice.gov/eoir/eoir-policy-manual/4/9',\n",
      " 'https://www.justice.gov/eoir/eoir-policy-manual/4/10',\n",
      " 'https://www.justice.gov/eoir/eoir-policy-manual/4/11',\n",
      " 'https://www.justice.gov/eoir/eoir-policy-manual/4/12',\n",
      " 'https://www.justice.gov/eoir/eoir-policy-manual/4/13',\n",
      " 'https://www.justice.gov/eoir/eoir-policy-manual/4/14',\n",
      " 'https://www.justice.gov/eoir/eoir-policy-manual/4/15',\n",
      " 'https://www.justice.gov/eoir/eoir-policy-manual/4/16',\n",
      " 'https://www.justice.gov/eoir/eoir-policy-manual/4/17',\n",
      " 'https://www.justice.gov/eoir/eoir-policy-manual/4/18',\n",
      " 'https://www.justice.gov/eoir/eoir-policy-manual/4/19',\n",
      " 'https://www.justice.gov/eoir/eoir-policy-manual/4/20',\n",
      " 'https://www.justice.gov/eoir/eoir-policy-manual/4/21',\n",
      " 'https://www.justice.gov/eoir/eoir-policy-manual/4/22',\n",
      " 'https://www.justice.gov/eoir/eoir-policy-manual/5/1',\n",
      " 'https://www.justice.gov/eoir/eoir-policy-manual/5/2',\n",
      " 'https://www.justice.gov/eoir/eoir-policy-manual/5/3',\n",
      " 'https://www.justice.gov/eoir/eoir-policy-manual/5/4',\n",
      " 'https://www.justice.gov/eoir/eoir-policy-manual/5/5',\n",
      " 'https://www.justice.gov/eoir/eoir-policy-manual/5/6',\n",
      " 'https://www.justice.gov/eoir/eoir-policy-manual/5/7',\n",
      " 'https://www.justice.gov/eoir/eoir-policy-manual/5/8',\n",
      " 'https://www.justice.gov/eoir/eoir-policy-manual/5/9',\n",
      " 'https://www.justice.gov/eoir/eoir-policy-manual/5/10',\n",
      " 'https://www.justice.gov/eoir/eoir-policy-manual/5/11',\n",
      " 'https://www.justice.gov/eoir/eoir-policy-manual/5/12',\n",
      " 'https://www.justice.gov/eoir/eoir-policy-manual/6/1',\n",
      " 'https://www.justice.gov/eoir/eoir-policy-manual/6/2',\n",
      " 'https://www.justice.gov/eoir/eoir-policy-manual/6/3',\n",
      " 'https://www.justice.gov/eoir/eoir-policy-manual/6/4',\n",
      " 'https://www.justice.gov/eoir/eoir-policy-manual/6/5',\n",
      " 'https://www.justice.gov/eoir/eoir-policy-manual/6/6',\n",
      " 'https://www.justice.gov/eoir/eoir-policy-manual/7/1',\n",
      " 'https://www.justice.gov/eoir/eoir-policy-manual/7/2',\n",
      " 'https://www.justice.gov/eoir/eoir-policy-manual/7/3',\n",
      " 'https://www.justice.gov/eoir/eoir-policy-manual/7/4',\n",
      " 'https://www.justice.gov/eoir/eoir-policy-manual/ii/7/5',\n",
      " 'https://www.justice.gov/eoir/eoir-policy-manual/8/1',\n",
      " 'https://www.justice.gov/eoir/eoir-policy-manual/8/2',\n",
      " 'https://www.justice.gov/eoir/eoir-policy-manual/8/3',\n",
      " 'https://www.justice.gov/eoir/eoir-policy-manual/9/1',\n",
      " 'https://www.justice.gov/eoir/eoir-policy-manual/9/2',\n",
      " 'https://www.justice.gov/eoir/eoir-policy-manual/9/3',\n",
      " 'https://www.justice.gov/eoir/eoir-policy-manual/9/4',\n",
      " 'https://www.justice.gov/eoir/eoir-policy-manual/10/1',\n",
      " 'https://www.justice.gov/eoir/eoir-policy-manual/10/2',\n",
      " 'https://www.justice.gov/eoir/eoir-policy-manual/10/3',\n",
      " 'https://www.justice.gov/eoir/eoir-policy-manual/10/4',\n",
      " 'https://www.justice.gov/eoir/eoir-policy-manual/10/5',\n",
      " 'https://www.justice.gov/eoir/eoir-policy-manual/10/6',\n",
      " 'https://www.justice.gov/eoir/eoir-policy-manual/10/7',\n",
      " 'https://www.justice.gov/eoir/eoir-policy-manual/10/8',\n",
      " 'https://www.justice.gov/eoir/eoir-policy-manual/10/9',\n",
      " 'https://www.justice.gov/eoir/eoir-policy-manual/10/10',\n",
      " 'https://www.justice.gov/eoir/eoir-policy-manual/11/1',\n",
      " 'https://www.justice.gov/eoir/eoir-policy-manual/11/2',\n",
      " 'https://www.justice.gov/eoir/eoir-policy-manual/11/3',\n",
      " 'https://www.justice.gov/eoir/eoir-policy-manual/11/4',\n",
      " 'https://www.justice.gov/eoir/eoir-policy-manual/12/1',\n",
      " 'https://www.justice.gov/eoir/eoir-policy-manual/12/2',\n",
      " 'https://www.justice.gov/eoir/eoir-policy-manual/12/3']\n"
     ]
    }
   ],
   "source": [
    "#links3 is a COMPLETE list of urls to scrape, including original links\n",
    "\n",
    "links2 = list(filter(lambda x: x.startswith('/eoir/eoir-policy-manual/'), subtoc))\n",
    "# [x for x in subtoc if x.startswith('/eoir-policy-manual/')]\n",
    "\n",
    "#pprint(links2)\n",
    "\n",
    "links3=[]\n",
    "[links3.append(x) for x in links2 if x not in links3]\n",
    "\n",
    "baseurl = \"https://www.justice.gov\"\n",
    "links3=[\"https://www.justice.gov\" + x for x in links3]\n",
    "\n",
    "# print([\"https://www.justice.gov\".format(i) for i in links3])\n",
    "\n",
    "\n",
    "pprint(links3)\n",
    "\n"
   ]
  },
  {
   "cell_type": "code",
   "execution_count": 18,
   "id": "7fa33d37",
   "metadata": {},
   "outputs": [
    {
     "name": "stdout",
     "output_type": "stream",
     "text": [
      "['https://www.justice.gov/eoir/eoir-policy-manual/ii/intro',\n",
      " 'https://www.justice.gov/eoir/eoir-policy-manual/1',\n",
      " 'https://www.justice.gov/eoir/eoir-policy-manual/2',\n",
      " 'https://www.justice.gov/eoir/eoir-policy-manual/3',\n",
      " 'https://www.justice.gov/eoir/eoir-policy-manual/chapter-4',\n",
      " 'https://www.justice.gov/eoir/eoir-policy-manual/5',\n",
      " 'https://www.justice.gov/eoir/eoir-policy-manual/chapter-6-appeals-immigration-judge-decisions',\n",
      " 'https://www.justice.gov/eoir/eoir-policy-manual/7',\n",
      " 'https://www.justice.gov/eoir/eoir-policy-manual/8',\n",
      " 'https://www.justice.gov/eoir/eoir-policy-manual/9',\n",
      " 'https://www.justice.gov/eoir/eoir-policy-manual/10',\n",
      " 'https://www.justice.gov/eoir/eoir-policy-manual/11',\n",
      " 'https://www.justice.gov/eoir/eoir-policy-manual/12',\n",
      " 'https://www.justice.gov/eoir/eoir-policy-manual/13',\n",
      " 'https://www.justice.gov/eoir/eoir-policy-manual/ii/14']\n",
      "['https://www.justice.gov/eoir/eoir-policy-manual/directorletter',\n",
      " 'https://www.justice.gov/eoir/eoir-policy-manual/main',\n",
      " 'https://www.justice.gov/eoir/eoir-policy-manual/i/EOIRleadership',\n",
      " 'https://www.justice.gov/eoir/eoir-policy-manual/part-i-introduction',\n",
      " 'https://www.justice.gov/eoir/eoir-policy-manual/part-ii-ocij-practice-manual',\n",
      " 'https://www.justice.gov/eoir/eoir-policy-manual/iii',\n",
      " 'https://www.justice.gov/eoir/eoir-policy-manual/part-iv-ocaho-practice-manual',\n",
      " 'https://www.justice.gov/eoir/eoir-policy-manual/part-v-miscellaneous',\n",
      " 'https://www.justice.gov/eoir/eoir-policy-manual/vi',\n",
      " 'https://www.justice.gov/eoir/eoir-policy-manual/vii',\n",
      " 'https://www.justice.gov/eoir/eoir-policy-manual/viii',\n",
      " 'https://www.justice.gov/eoir/eoir-policy-manual/VIIII',\n",
      " 'https://www.justice.gov/eoir/eoir-policy-manual/i/7',\n",
      " 'https://www.justice.gov/eoir/eoir-policy-manual/i/1/1',\n",
      " 'https://www.justice.gov/eoir/eoir-policy-manual/ii/1/2',\n",
      " 'https://www.justice.gov/eoir/eoir-policy-manual/ii/1/3',\n",
      " 'https://www.justice.gov/eoir/eoir-policy-manual/ii/1/4',\n",
      " 'https://www.justice.gov/eoir/eoir-policy-manual/ii/1/5',\n",
      " 'https://www.justice.gov/eoir/eoir-policy-manual/ii/1/6',\n",
      " 'https://www.justice.gov/eoir/eoir-policy-manual/2/1',\n",
      " 'https://www.justice.gov/eoir/eoir-policy-manual/2/2',\n",
      " 'https://www.justice.gov/eoir/eoir-policy-manual/2/3',\n",
      " 'https://www.justice.gov/eoir/eoir-policy-manual/2/4',\n",
      " 'https://www.justice.gov/eoir/eoir-policy-manual/2/5',\n",
      " 'https://www.justice.gov/eoir/eoir-policy-manual/2/6',\n",
      " 'https://www.justice.gov/eoir/eoir-policy-manual/2/7',\n",
      " 'https://www.justice.gov/eoir/eoir-policy-manual/2/8',\n",
      " 'https://www.justice.gov/eoir/eoir-policy-manual/2/9',\n",
      " 'https://www.justice.gov/eoir/eoir-policy-manual/ii/3/1',\n",
      " 'https://www.justice.gov/eoir/eoir-policy-manual/3/2',\n",
      " 'https://www.justice.gov/eoir/eoir-policy-manual/3/3',\n",
      " 'https://www.justice.gov/eoir/eoir-policy-manual/3/4',\n",
      " 'https://www.justice.gov/eoir/eoir-policy-manual/4/1',\n",
      " 'https://www.justice.gov/eoir/eoir-policy-manual/4/2',\n",
      " 'https://www.justice.gov/eoir/eoir-policy-manual/4/3',\n",
      " 'https://www.justice.gov/eoir/eoir-policy-manual/4/4',\n",
      " 'https://www.justice.gov/eoir/eoir-policy-manual/ii/4/5',\n",
      " 'https://www.justice.gov/eoir/eoir-policy-manual/4/6',\n",
      " 'https://www.justice.gov/eoir/eoir-policy-manual/4/7',\n",
      " 'https://www.justice.gov/eoir/eoir-policy-manual/4/8',\n",
      " 'https://www.justice.gov/eoir/eoir-policy-manual/4/9',\n",
      " 'https://www.justice.gov/eoir/eoir-policy-manual/4/10',\n",
      " 'https://www.justice.gov/eoir/eoir-policy-manual/4/11',\n",
      " 'https://www.justice.gov/eoir/eoir-policy-manual/4/12',\n",
      " 'https://www.justice.gov/eoir/eoir-policy-manual/4/13',\n",
      " 'https://www.justice.gov/eoir/eoir-policy-manual/4/14',\n",
      " 'https://www.justice.gov/eoir/eoir-policy-manual/4/15',\n",
      " 'https://www.justice.gov/eoir/eoir-policy-manual/4/16',\n",
      " 'https://www.justice.gov/eoir/eoir-policy-manual/4/17',\n",
      " 'https://www.justice.gov/eoir/eoir-policy-manual/4/18',\n",
      " 'https://www.justice.gov/eoir/eoir-policy-manual/4/19',\n",
      " 'https://www.justice.gov/eoir/eoir-policy-manual/4/20',\n",
      " 'https://www.justice.gov/eoir/eoir-policy-manual/4/21',\n",
      " 'https://www.justice.gov/eoir/eoir-policy-manual/4/22',\n",
      " 'https://www.justice.gov/eoir/eoir-policy-manual/5/1',\n",
      " 'https://www.justice.gov/eoir/eoir-policy-manual/5/2',\n",
      " 'https://www.justice.gov/eoir/eoir-policy-manual/5/3',\n",
      " 'https://www.justice.gov/eoir/eoir-policy-manual/5/4',\n",
      " 'https://www.justice.gov/eoir/eoir-policy-manual/5/5',\n",
      " 'https://www.justice.gov/eoir/eoir-policy-manual/5/6',\n",
      " 'https://www.justice.gov/eoir/eoir-policy-manual/5/7',\n",
      " 'https://www.justice.gov/eoir/eoir-policy-manual/5/8',\n",
      " 'https://www.justice.gov/eoir/eoir-policy-manual/5/9',\n",
      " 'https://www.justice.gov/eoir/eoir-policy-manual/5/10',\n",
      " 'https://www.justice.gov/eoir/eoir-policy-manual/5/11',\n",
      " 'https://www.justice.gov/eoir/eoir-policy-manual/5/12',\n",
      " 'https://www.justice.gov/eoir/eoir-policy-manual/6/1',\n",
      " 'https://www.justice.gov/eoir/eoir-policy-manual/6/2',\n",
      " 'https://www.justice.gov/eoir/eoir-policy-manual/6/3',\n",
      " 'https://www.justice.gov/eoir/eoir-policy-manual/6/4',\n",
      " 'https://www.justice.gov/eoir/eoir-policy-manual/6/5',\n",
      " 'https://www.justice.gov/eoir/eoir-policy-manual/6/6',\n",
      " 'https://www.justice.gov/eoir/eoir-policy-manual/7/1',\n",
      " 'https://www.justice.gov/eoir/eoir-policy-manual/7/2',\n",
      " 'https://www.justice.gov/eoir/eoir-policy-manual/7/3',\n",
      " 'https://www.justice.gov/eoir/eoir-policy-manual/7/4',\n",
      " 'https://www.justice.gov/eoir/eoir-policy-manual/ii/7/5',\n",
      " 'https://www.justice.gov/eoir/eoir-policy-manual/8/1',\n",
      " 'https://www.justice.gov/eoir/eoir-policy-manual/8/2',\n",
      " 'https://www.justice.gov/eoir/eoir-policy-manual/8/3',\n",
      " 'https://www.justice.gov/eoir/eoir-policy-manual/9/1',\n",
      " 'https://www.justice.gov/eoir/eoir-policy-manual/9/2',\n",
      " 'https://www.justice.gov/eoir/eoir-policy-manual/9/3',\n",
      " 'https://www.justice.gov/eoir/eoir-policy-manual/9/4',\n",
      " 'https://www.justice.gov/eoir/eoir-policy-manual/10/1',\n",
      " 'https://www.justice.gov/eoir/eoir-policy-manual/10/2',\n",
      " 'https://www.justice.gov/eoir/eoir-policy-manual/10/3',\n",
      " 'https://www.justice.gov/eoir/eoir-policy-manual/10/4',\n",
      " 'https://www.justice.gov/eoir/eoir-policy-manual/10/5',\n",
      " 'https://www.justice.gov/eoir/eoir-policy-manual/10/6',\n",
      " 'https://www.justice.gov/eoir/eoir-policy-manual/10/7',\n",
      " 'https://www.justice.gov/eoir/eoir-policy-manual/10/8',\n",
      " 'https://www.justice.gov/eoir/eoir-policy-manual/10/9',\n",
      " 'https://www.justice.gov/eoir/eoir-policy-manual/10/10',\n",
      " 'https://www.justice.gov/eoir/eoir-policy-manual/11/1',\n",
      " 'https://www.justice.gov/eoir/eoir-policy-manual/11/2',\n",
      " 'https://www.justice.gov/eoir/eoir-policy-manual/11/3',\n",
      " 'https://www.justice.gov/eoir/eoir-policy-manual/11/4',\n",
      " 'https://www.justice.gov/eoir/eoir-policy-manual/12/1',\n",
      " 'https://www.justice.gov/eoir/eoir-policy-manual/12/2',\n",
      " 'https://www.justice.gov/eoir/eoir-policy-manual/12/3']\n"
     ]
    }
   ],
   "source": [
    "#links4 is a list of the subsection URLS, not in original list\n",
    "\n",
    "links4=[]\n",
    "[links4.append(x) for x in links3 if x not in links]\n",
    "\n",
    "#links4 is a list of the rest of the urls to scrape\n",
    "pprint(links)\n",
    "pprint(links4)"
   ]
  },
  {
   "cell_type": "code",
   "execution_count": 2,
   "id": "fe4672fd",
   "metadata": {},
   "outputs": [
    {
     "ename": "SyntaxError",
     "evalue": "invalid syntax (2079168055.py, line 4)",
     "output_type": "error",
     "traceback": [
      "\u001b[0;36m  File \u001b[0;32m\"/var/folders/x3/kflq6wcs785_mlp8r0x9h80h0000gp/T/ipykernel_14759/2079168055.py\"\u001b[0;36m, line \u001b[0;32m4\u001b[0m\n\u001b[0;31m    pip install scrapy\u001b[0m\n\u001b[0m        ^\u001b[0m\n\u001b[0;31mSyntaxError\u001b[0m\u001b[0;31m:\u001b[0m invalid syntax\n"
     ]
    }
   ],
   "source": [
    "#trying to scrape complete links3 list first\n",
    "\n",
    "import scrapy\n"
   ]
  },
  {
   "cell_type": "code",
   "execution_count": 3,
   "id": "2b2de692",
   "metadata": {},
   "outputs": [
    {
     "name": "stdout",
     "output_type": "stream",
     "text": [
      "Requirement already satisfied: scrapy in /Users/User/opt/anaconda3/lib/python3.8/site-packages (2.4.1)\n",
      "Requirement already satisfied: w3lib>=1.17.0 in /Users/User/opt/anaconda3/lib/python3.8/site-packages (from scrapy) (1.21.0)\n",
      "Requirement already satisfied: lxml>=3.5.0 in /Users/User/opt/anaconda3/lib/python3.8/site-packages (from scrapy) (4.6.4)\n",
      "Requirement already satisfied: parsel>=1.5.0 in /Users/User/opt/anaconda3/lib/python3.8/site-packages (from scrapy) (1.5.2)\n",
      "Requirement already satisfied: pyOpenSSL>=16.2.0 in /Users/User/opt/anaconda3/lib/python3.8/site-packages (from scrapy) (21.0.0)\n",
      "Requirement already satisfied: zope.interface>=4.1.3 in /Users/User/opt/anaconda3/lib/python3.8/site-packages (from scrapy) (5.4.0)\n",
      "Requirement already satisfied: protego>=0.1.15 in /Users/User/opt/anaconda3/lib/python3.8/site-packages (from scrapy) (0.1.16)\n",
      "Requirement already satisfied: PyDispatcher>=2.0.5 in /Users/User/opt/anaconda3/lib/python3.8/site-packages (from scrapy) (2.0.5)\n",
      "Requirement already satisfied: cssselect>=0.9.1 in /Users/User/opt/anaconda3/lib/python3.8/site-packages (from scrapy) (1.1.0)\n",
      "Requirement already satisfied: service-identity>=16.0.0 in /Users/User/opt/anaconda3/lib/python3.8/site-packages (from scrapy) (18.1.0)\n",
      "Requirement already satisfied: itemloaders>=1.0.1 in /Users/User/opt/anaconda3/lib/python3.8/site-packages (from scrapy) (1.0.4)\n",
      "Requirement already satisfied: cryptography>=2.0 in /Users/User/opt/anaconda3/lib/python3.8/site-packages (from scrapy) (3.4.8)\n",
      "Requirement already satisfied: itemadapter>=0.1.0 in /Users/User/opt/anaconda3/lib/python3.8/site-packages (from scrapy) (0.3.0)\n",
      "Requirement already satisfied: queuelib>=1.4.2 in /Users/User/opt/anaconda3/lib/python3.8/site-packages (from scrapy) (1.5.0)\n",
      "Requirement already satisfied: Twisted>=17.9.0 in /Users/User/opt/anaconda3/lib/python3.8/site-packages (from scrapy) (21.7.0)\n",
      "Requirement already satisfied: cffi>=1.12 in /Users/User/opt/anaconda3/lib/python3.8/site-packages (from cryptography>=2.0->scrapy) (1.14.6)\n",
      "Requirement already satisfied: pycparser in /Users/User/opt/anaconda3/lib/python3.8/site-packages (from cffi>=1.12->cryptography>=2.0->scrapy) (2.21)\n",
      "Requirement already satisfied: jmespath>=0.9.5 in /Users/User/opt/anaconda3/lib/python3.8/site-packages (from itemloaders>=1.0.1->scrapy) (0.10.0)\n",
      "Requirement already satisfied: six>=1.5.2 in /Users/User/opt/anaconda3/lib/python3.8/site-packages (from parsel>=1.5.0->scrapy) (1.16.0)\n",
      "Requirement already satisfied: attrs>=16.0.0 in /Users/User/opt/anaconda3/lib/python3.8/site-packages (from service-identity>=16.0.0->scrapy) (21.2.0)\n",
      "Requirement already satisfied: pyasn1-modules in /Users/User/opt/anaconda3/lib/python3.8/site-packages (from service-identity>=16.0.0->scrapy) (0.2.8)\n",
      "Requirement already satisfied: pyasn1 in /Users/User/opt/anaconda3/lib/python3.8/site-packages (from service-identity>=16.0.0->scrapy) (0.4.8)\n",
      "Requirement already satisfied: incremental>=21.3.0 in /Users/User/opt/anaconda3/lib/python3.8/site-packages (from Twisted>=17.9.0->scrapy) (21.3.0)\n",
      "Requirement already satisfied: Automat>=0.8.0 in /Users/User/opt/anaconda3/lib/python3.8/site-packages (from Twisted>=17.9.0->scrapy) (20.2.0)\n",
      "Requirement already satisfied: typing-extensions>=3.6.5 in /Users/User/opt/anaconda3/lib/python3.8/site-packages (from Twisted>=17.9.0->scrapy) (3.10.0.2)\n",
      "Requirement already satisfied: hyperlink>=17.1.1 in /Users/User/opt/anaconda3/lib/python3.8/site-packages (from Twisted>=17.9.0->scrapy) (21.0.0)\n",
      "Requirement already satisfied: constantly>=15.1 in /Users/User/opt/anaconda3/lib/python3.8/site-packages (from Twisted>=17.9.0->scrapy) (15.1.0)\n",
      "Requirement already satisfied: idna>=2.5 in /Users/User/opt/anaconda3/lib/python3.8/site-packages (from hyperlink>=17.1.1->Twisted>=17.9.0->scrapy) (3.3)\n",
      "Requirement already satisfied: setuptools in /Users/User/opt/anaconda3/lib/python3.8/site-packages (from zope.interface>=4.1.3->scrapy) (58.0.4)\n",
      "Note: you may need to restart the kernel to use updated packages.\n"
     ]
    }
   ],
   "source": [
    "pip install scrapy"
   ]
  },
  {
   "cell_type": "code",
   "execution_count": 12,
   "id": "62cf5cb2-44d5-4794-a150-ef335fa7a55d",
   "metadata": {},
   "outputs": [],
   "source": [
    "import scrapy"
   ]
  },
  {
   "cell_type": "code",
   "execution_count": 14,
   "id": "fa774754-92a5-4bc0-bbdd-5cb7b0cc690a",
   "metadata": {},
   "outputs": [
    {
     "ename": "ModuleNotFoundError",
     "evalue": "No module named 'webscrapy'",
     "output_type": "error",
     "traceback": [
      "\u001b[0;31m---------------------------------------------------------------------------\u001b[0m",
      "\u001b[0;31mModuleNotFoundError\u001b[0m                       Traceback (most recent call last)",
      "\u001b[0;32m/var/folders/x3/kflq6wcs785_mlp8r0x9h80h0000gp/T/ipykernel_14798/1573945956.py\u001b[0m in \u001b[0;36m<module>\u001b[0;34m\u001b[0m\n\u001b[0;32m----> 1\u001b[0;31m \u001b[0;32mfrom\u001b[0m \u001b[0mwebscrapy\u001b[0m\u001b[0;34m.\u001b[0m\u001b[0mitems\u001b[0m \u001b[0;32mimport\u001b[0m \u001b[0mMovieItem\u001b[0m\u001b[0;34m,\u001b[0m \u001b[0mCastItem\u001b[0m\u001b[0;34m\u001b[0m\u001b[0;34m\u001b[0m\u001b[0m\n\u001b[0m",
      "\u001b[0;31mModuleNotFoundError\u001b[0m: No module named 'webscrapy'"
     ]
    }
   ],
   "source": [
    "from webscrapy.items import MovieItem, CastItem"
   ]
  },
  {
   "cell_type": "code",
   "execution_count": null,
   "id": "ea0927ca-1523-4cd0-afa1-4ffb2dc457c7",
   "metadata": {},
   "outputs": [],
   "source": []
  }
 ],
 "metadata": {
  "kernelspec": {
   "display_name": "Python 3 (ipykernel)",
   "language": "python",
   "name": "python3"
  },
  "language_info": {
   "codemirror_mode": {
    "name": "ipython",
    "version": 3
   },
   "file_extension": ".py",
   "mimetype": "text/x-python",
   "name": "python",
   "nbconvert_exporter": "python",
   "pygments_lexer": "ipython3",
   "version": "3.8.8"
  }
 },
 "nbformat": 4,
 "nbformat_minor": 5
}
