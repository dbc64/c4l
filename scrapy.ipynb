{
 "cells": [
  {
   "cell_type": "code",
   "execution_count": 1,
   "id": "a1ba1c4d",
   "metadata": {},
   "outputs": [
    {
     "name": "stdout",
     "output_type": "stream",
     "text": [
      "Collecting package metadata (current_repodata.json): done\n",
      "Solving environment: done\n",
      "\n",
      "## Package Plan ##\n",
      "\n",
      "  environment location: /Users/User/opt/anaconda3\n",
      "\n",
      "  added / updated specs:\n",
      "    - scrapy\n",
      "\n",
      "\n",
      "The following packages will be downloaded:\n",
      "\n",
      "    package                    |            build\n",
      "    ---------------------------|-----------------\n",
      "    automat-20.2.0             |             py_0          30 KB  conda-forge\n",
      "    bcrypt-3.2.0               |   py38h96a0964_2          44 KB  conda-forge\n",
      "    constantly-15.1.0          |             py_0           9 KB  conda-forge\n",
      "    cssselect-1.1.0            |             py_0          18 KB  conda-forge\n",
      "    hyperlink-21.0.0           |     pyhd3deb0d_0          71 KB  conda-forge\n",
      "    incremental-21.3.0         |     pyhd8ed1ab_0          16 KB  conda-forge\n",
      "    itemadapter-0.4.0          |     pyhd8ed1ab_0          13 KB  conda-forge\n",
      "    parsel-1.6.0               |             py_0          15 KB  conda-forge\n",
      "    pyasn1-0.4.8               |             py_0          53 KB  conda-forge\n",
      "    pyasn1-modules-0.2.7       |             py_0          60 KB  conda-forge\n",
      "    pydispatcher-2.0.5         |             py_1          12 KB  conda-forge\n",
      "    queuelib-1.6.2             |     pyhd8ed1ab_0          14 KB  conda-forge\n",
      "    scrapy-2.4.1               |   py38hecd8cb5_0         334 KB\n",
      "    service_identity-18.1.0    |             py_0          12 KB  conda-forge\n",
      "    twisted-21.7.0             |   py38h96a0964_1         5.1 MB  conda-forge\n",
      "    w3lib-1.22.0               |     pyh9f0ad1d_0          21 KB  conda-forge\n",
      "    ------------------------------------------------------------\n",
      "                                           Total:         5.8 MB\n",
      "\n",
      "The following NEW packages will be INSTALLED:\n",
      "\n",
      "  automat            conda-forge/noarch::automat-20.2.0-py_0\n",
      "  bcrypt             conda-forge/osx-64::bcrypt-3.2.0-py38h96a0964_2\n",
      "  constantly         conda-forge/noarch::constantly-15.1.0-py_0\n",
      "  cssselect          conda-forge/noarch::cssselect-1.1.0-py_0\n",
      "  hyperlink          conda-forge/noarch::hyperlink-21.0.0-pyhd3deb0d_0\n",
      "  incremental        conda-forge/noarch::incremental-21.3.0-pyhd8ed1ab_0\n",
      "  itemadapter        conda-forge/noarch::itemadapter-0.4.0-pyhd8ed1ab_0\n",
      "  parsel             conda-forge/noarch::parsel-1.6.0-py_0\n",
      "  pyasn1             conda-forge/noarch::pyasn1-0.4.8-py_0\n",
      "  pyasn1-modules     conda-forge/noarch::pyasn1-modules-0.2.7-py_0\n",
      "  pydispatcher       conda-forge/noarch::pydispatcher-2.0.5-py_1\n",
      "  python_abi         conda-forge/osx-64::python_abi-3.8-2_cp38\n",
      "  queuelib           conda-forge/noarch::queuelib-1.6.2-pyhd8ed1ab_0\n",
      "  scrapy             pkgs/main/osx-64::scrapy-2.4.1-py38hecd8cb5_0\n",
      "  service_identity   conda-forge/noarch::service_identity-18.1.0-py_0\n",
      "  twisted            conda-forge/osx-64::twisted-21.7.0-py38h96a0964_1\n",
      "  w3lib              conda-forge/noarch::w3lib-1.22.0-pyh9f0ad1d_0\n",
      "\n",
      "The following packages will be UPDATED:\n",
      "\n",
      "  certifi            pkgs/main::certifi-2021.10.8-py38hecd~ --> conda-forge::certifi-2021.10.8-py38h50d1736_1\n",
      "\n",
      "The following packages will be SUPERSEDED by a higher-priority channel:\n",
      "\n",
      "  ca-certificates    pkgs/main::ca-certificates-2021.10.26~ --> conda-forge::ca-certificates-2021.10.8-h033912b_0\n",
      "  conda              pkgs/main::conda-4.11.0-py38hecd8cb5_0 --> conda-forge::conda-4.11.0-py38h50d1736_0\n",
      "  openssl              pkgs/main::openssl-1.1.1l-h9ed2024_0 --> conda-forge::openssl-1.1.1l-h0d85af4_0\n",
      "\n",
      "\n",
      "\n",
      "Downloading and Extracting Packages\n",
      "w3lib-1.22.0         | 21 KB     | ##################################### | 100% \n",
      "cssselect-1.1.0      | 18 KB     | ##################################### | 100% \n",
      "incremental-21.3.0   | 16 KB     | ##################################### | 100% \n",
      "bcrypt-3.2.0         | 44 KB     | ##################################### | 100% \n",
      "constantly-15.1.0    | 9 KB      | ##################################### | 100% \n",
      "queuelib-1.6.2       | 14 KB     | ##################################### | 100% \n",
      "scrapy-2.4.1         | 334 KB    | ##################################### | 100% \n",
      "pyasn1-modules-0.2.7 | 60 KB     | ##################################### | 100% \n",
      "service_identity-18. | 12 KB     | ##################################### | 100% \n",
      "pyasn1-0.4.8         | 53 KB     | ##################################### | 100% \n",
      "itemadapter-0.4.0    | 13 KB     | ##################################### | 100% \n",
      "parsel-1.6.0         | 15 KB     | ##################################### | 100% \n",
      "automat-20.2.0       | 30 KB     | ##################################### | 100% \n",
      "hyperlink-21.0.0     | 71 KB     | ##################################### | 100% \n",
      "twisted-21.7.0       | 5.1 MB    | ##################################### | 100% \n",
      "pydispatcher-2.0.5   | 12 KB     | ##################################### | 100% \n",
      "Preparing transaction: done\n",
      "Verifying transaction: done\n",
      "Executing transaction: done\n",
      "\n",
      "Note: you may need to restart the kernel to use updated packages.\n"
     ]
    }
   ],
   "source": [
    "conda install -c conda-forge scrapy"
   ]
  },
  {
   "cell_type": "code",
   "execution_count": 11,
   "id": "90892c0d",
   "metadata": {},
   "outputs": [
    {
     "name": "stdout",
     "output_type": "stream",
     "text": [
      "Collecting package metadata (current_repodata.json): done\n",
      "Solving environment: done\n",
      "\n",
      "# All requested packages already installed.\n",
      "\n",
      "\n",
      "Note: you may need to restart the kernel to use updated packages.\n"
     ]
    }
   ],
   "source": [
    "conda update anaconda-navigator"
   ]
  },
  {
   "cell_type": "code",
   "execution_count": 6,
   "id": "942fe42b",
   "metadata": {},
   "outputs": [
    {
     "name": "stdout",
     "output_type": "stream",
     "text": [
      "Collecting pixiedust\n",
      "  Downloading pixiedust-1.1.19.tar.gz (197 kB)\n",
      "\u001b[K     |████████████████████████████████| 197 kB 438 kB/s eta 0:00:01\n",
      "\u001b[?25hCollecting geojson\n",
      "  Downloading geojson-2.5.0-py2.py3-none-any.whl (14 kB)\n",
      "Collecting astunparse\n",
      "  Downloading astunparse-1.6.3-py2.py3-none-any.whl (12 kB)\n",
      "Collecting markdown\n",
      "  Downloading Markdown-3.3.6-py3-none-any.whl (97 kB)\n",
      "\u001b[K     |████████████████████████████████| 97 kB 2.4 MB/s eta 0:00:01\n",
      "\u001b[?25hCollecting colour\n",
      "  Downloading colour-0.1.5-py2.py3-none-any.whl (23 kB)\n",
      "Requirement already satisfied: requests in /Users/User/opt/anaconda3/lib/python3.8/site-packages (from pixiedust) (2.26.0)\n",
      "Requirement already satisfied: matplotlib in /Users/User/opt/anaconda3/lib/python3.8/site-packages (from pixiedust) (3.5.0)\n",
      "Requirement already satisfied: pandas in /Users/User/opt/anaconda3/lib/python3.8/site-packages (from pixiedust) (1.3.4)\n",
      "Requirement already satisfied: six<2.0,>=1.6.1 in /Users/User/opt/anaconda3/lib/python3.8/site-packages (from astunparse->pixiedust) (1.16.0)\n",
      "Requirement already satisfied: wheel<1.0,>=0.23.0 in /Users/User/opt/anaconda3/lib/python3.8/site-packages (from astunparse->pixiedust) (0.37.0)\n",
      "Requirement already satisfied: importlib-metadata>=4.4 in /Users/User/opt/anaconda3/lib/python3.8/site-packages (from markdown->pixiedust) (4.8.2)\n",
      "Requirement already satisfied: zipp>=0.5 in /Users/User/opt/anaconda3/lib/python3.8/site-packages (from importlib-metadata>=4.4->markdown->pixiedust) (3.6.0)\n",
      "Requirement already satisfied: cycler>=0.10 in /Users/User/opt/anaconda3/lib/python3.8/site-packages (from matplotlib->pixiedust) (0.11.0)\n",
      "Requirement already satisfied: fonttools>=4.22.0 in /Users/User/opt/anaconda3/lib/python3.8/site-packages (from matplotlib->pixiedust) (4.25.0)\n",
      "Requirement already satisfied: kiwisolver>=1.0.1 in /Users/User/opt/anaconda3/lib/python3.8/site-packages (from matplotlib->pixiedust) (1.3.1)\n",
      "Requirement already satisfied: packaging>=20.0 in /Users/User/opt/anaconda3/lib/python3.8/site-packages (from matplotlib->pixiedust) (21.3)\n",
      "Requirement already satisfied: python-dateutil>=2.7 in /Users/User/opt/anaconda3/lib/python3.8/site-packages (from matplotlib->pixiedust) (2.8.2)\n",
      "Requirement already satisfied: numpy>=1.17 in /Users/User/opt/anaconda3/lib/python3.8/site-packages (from matplotlib->pixiedust) (1.20.3)\n",
      "Requirement already satisfied: pillow>=6.2.0 in /Users/User/opt/anaconda3/lib/python3.8/site-packages (from matplotlib->pixiedust) (8.4.0)\n",
      "Requirement already satisfied: pyparsing>=2.2.1 in /Users/User/opt/anaconda3/lib/python3.8/site-packages (from matplotlib->pixiedust) (3.0.4)\n",
      "Requirement already satisfied: pytz>=2017.3 in /Users/User/opt/anaconda3/lib/python3.8/site-packages (from pandas->pixiedust) (2021.3)\n",
      "Requirement already satisfied: idna<4,>=2.5 in /Users/User/opt/anaconda3/lib/python3.8/site-packages (from requests->pixiedust) (3.3)\n",
      "Requirement already satisfied: certifi>=2017.4.17 in /Users/User/opt/anaconda3/lib/python3.8/site-packages (from requests->pixiedust) (2021.10.8)\n",
      "Requirement already satisfied: charset-normalizer~=2.0.0 in /Users/User/opt/anaconda3/lib/python3.8/site-packages (from requests->pixiedust) (2.0.4)\n",
      "Requirement already satisfied: urllib3<1.27,>=1.21.1 in /Users/User/opt/anaconda3/lib/python3.8/site-packages (from requests->pixiedust) (1.26.7)\n",
      "Building wheels for collected packages: pixiedust\n",
      "  Building wheel for pixiedust (setup.py) ... \u001b[?25ldone\n",
      "\u001b[?25h  Created wheel for pixiedust: filename=pixiedust-1.1.19-py3-none-any.whl size=321804 sha256=a71295307f64464b12ac94523b2b1b198f7ea244c0fdc2bbf96c3c4ea26545da\n",
      "  Stored in directory: /Users/User/Library/Caches/pip/wheels/a1/8f/a3/25f8e4f230bbbcc575afff7e6f13a90dd01c84cf03781af8f8\n",
      "Successfully built pixiedust\n",
      "Installing collected packages: markdown, geojson, colour, astunparse, pixiedust\n",
      "Successfully installed astunparse-1.6.3 colour-0.1.5 geojson-2.5.0 markdown-3.3.6 pixiedust-1.1.19\n",
      "Note: you may need to restart the kernel to use updated packages.\n"
     ]
    }
   ],
   "source": [
    "pip install pixiedust"
   ]
  },
  {
   "cell_type": "code",
   "execution_count": 7,
   "id": "cc15aa4d",
   "metadata": {},
   "outputs": [
    {
     "name": "stdout",
     "output_type": "stream",
     "text": [
      "Collecting pixiedust_node\n",
      "  Downloading pixiedust_node-0.2.5.tar.gz (10 kB)\n",
      "Requirement already satisfied: pixiedust in /Users/User/opt/anaconda3/lib/python3.8/site-packages (from pixiedust_node) (1.1.19)\n",
      "Requirement already satisfied: pandas in /Users/User/opt/anaconda3/lib/python3.8/site-packages (from pixiedust_node) (1.3.4)\n",
      "Requirement already satisfied: ipython in /Users/User/opt/anaconda3/lib/python3.8/site-packages (from pixiedust_node) (7.29.0)\n",
      "Requirement already satisfied: pickleshare in /Users/User/opt/anaconda3/lib/python3.8/site-packages (from ipython->pixiedust_node) (0.7.5)\n",
      "Requirement already satisfied: jedi>=0.16 in /Users/User/opt/anaconda3/lib/python3.8/site-packages (from ipython->pixiedust_node) (0.18.0)\n",
      "Requirement already satisfied: prompt-toolkit!=3.0.0,!=3.0.1,<3.1.0,>=2.0.0 in /Users/User/opt/anaconda3/lib/python3.8/site-packages (from ipython->pixiedust_node) (3.0.20)\n",
      "Requirement already satisfied: traitlets>=4.2 in /Users/User/opt/anaconda3/lib/python3.8/site-packages (from ipython->pixiedust_node) (5.1.1)\n",
      "Requirement already satisfied: pexpect>4.3 in /Users/User/opt/anaconda3/lib/python3.8/site-packages (from ipython->pixiedust_node) (4.8.0)\n",
      "Requirement already satisfied: backcall in /Users/User/opt/anaconda3/lib/python3.8/site-packages (from ipython->pixiedust_node) (0.2.0)\n",
      "Requirement already satisfied: pygments in /Users/User/opt/anaconda3/lib/python3.8/site-packages (from ipython->pixiedust_node) (2.10.0)\n",
      "Requirement already satisfied: appnope in /Users/User/opt/anaconda3/lib/python3.8/site-packages (from ipython->pixiedust_node) (0.1.2)\n",
      "Requirement already satisfied: decorator in /Users/User/opt/anaconda3/lib/python3.8/site-packages (from ipython->pixiedust_node) (5.1.0)\n",
      "Requirement already satisfied: setuptools>=18.5 in /Users/User/opt/anaconda3/lib/python3.8/site-packages (from ipython->pixiedust_node) (58.0.4)\n",
      "Requirement already satisfied: matplotlib-inline in /Users/User/opt/anaconda3/lib/python3.8/site-packages (from ipython->pixiedust_node) (0.1.2)\n",
      "Requirement already satisfied: parso<0.9.0,>=0.8.0 in /Users/User/opt/anaconda3/lib/python3.8/site-packages (from jedi>=0.16->ipython->pixiedust_node) (0.8.2)\n",
      "Requirement already satisfied: ptyprocess>=0.5 in /Users/User/opt/anaconda3/lib/python3.8/site-packages (from pexpect>4.3->ipython->pixiedust_node) (0.7.0)\n",
      "Requirement already satisfied: wcwidth in /Users/User/opt/anaconda3/lib/python3.8/site-packages (from prompt-toolkit!=3.0.0,!=3.0.1,<3.1.0,>=2.0.0->ipython->pixiedust_node) (0.2.5)\n",
      "Requirement already satisfied: python-dateutil>=2.7.3 in /Users/User/opt/anaconda3/lib/python3.8/site-packages (from pandas->pixiedust_node) (2.8.2)\n",
      "Requirement already satisfied: pytz>=2017.3 in /Users/User/opt/anaconda3/lib/python3.8/site-packages (from pandas->pixiedust_node) (2021.3)\n",
      "Requirement already satisfied: numpy>=1.17.3 in /Users/User/opt/anaconda3/lib/python3.8/site-packages (from pandas->pixiedust_node) (1.20.3)\n",
      "Requirement already satisfied: six>=1.5 in /Users/User/opt/anaconda3/lib/python3.8/site-packages (from python-dateutil>=2.7.3->pandas->pixiedust_node) (1.16.0)\n",
      "Requirement already satisfied: astunparse in /Users/User/opt/anaconda3/lib/python3.8/site-packages (from pixiedust->pixiedust_node) (1.6.3)\n",
      "Requirement already satisfied: markdown in /Users/User/opt/anaconda3/lib/python3.8/site-packages (from pixiedust->pixiedust_node) (3.3.6)\n",
      "Requirement already satisfied: colour in /Users/User/opt/anaconda3/lib/python3.8/site-packages (from pixiedust->pixiedust_node) (0.1.5)\n",
      "Requirement already satisfied: requests in /Users/User/opt/anaconda3/lib/python3.8/site-packages (from pixiedust->pixiedust_node) (2.26.0)\n",
      "Requirement already satisfied: matplotlib in /Users/User/opt/anaconda3/lib/python3.8/site-packages (from pixiedust->pixiedust_node) (3.5.0)\n",
      "Requirement already satisfied: geojson in /Users/User/opt/anaconda3/lib/python3.8/site-packages (from pixiedust->pixiedust_node) (2.5.0)\n",
      "Requirement already satisfied: wheel<1.0,>=0.23.0 in /Users/User/opt/anaconda3/lib/python3.8/site-packages (from astunparse->pixiedust->pixiedust_node) (0.37.0)\n",
      "Requirement already satisfied: importlib-metadata>=4.4 in /Users/User/opt/anaconda3/lib/python3.8/site-packages (from markdown->pixiedust->pixiedust_node) (4.8.2)\n",
      "Requirement already satisfied: zipp>=0.5 in /Users/User/opt/anaconda3/lib/python3.8/site-packages (from importlib-metadata>=4.4->markdown->pixiedust->pixiedust_node) (3.6.0)\n",
      "Requirement already satisfied: kiwisolver>=1.0.1 in /Users/User/opt/anaconda3/lib/python3.8/site-packages (from matplotlib->pixiedust->pixiedust_node) (1.3.1)\n",
      "Requirement already satisfied: fonttools>=4.22.0 in /Users/User/opt/anaconda3/lib/python3.8/site-packages (from matplotlib->pixiedust->pixiedust_node) (4.25.0)\n",
      "Requirement already satisfied: cycler>=0.10 in /Users/User/opt/anaconda3/lib/python3.8/site-packages (from matplotlib->pixiedust->pixiedust_node) (0.11.0)\n",
      "Requirement already satisfied: pillow>=6.2.0 in /Users/User/opt/anaconda3/lib/python3.8/site-packages (from matplotlib->pixiedust->pixiedust_node) (8.4.0)\n",
      "Requirement already satisfied: pyparsing>=2.2.1 in /Users/User/opt/anaconda3/lib/python3.8/site-packages (from matplotlib->pixiedust->pixiedust_node) (3.0.4)\n",
      "Requirement already satisfied: packaging>=20.0 in /Users/User/opt/anaconda3/lib/python3.8/site-packages (from matplotlib->pixiedust->pixiedust_node) (21.3)\n",
      "Requirement already satisfied: urllib3<1.27,>=1.21.1 in /Users/User/opt/anaconda3/lib/python3.8/site-packages (from requests->pixiedust->pixiedust_node) (1.26.7)\n",
      "Requirement already satisfied: charset-normalizer~=2.0.0 in /Users/User/opt/anaconda3/lib/python3.8/site-packages (from requests->pixiedust->pixiedust_node) (2.0.4)\n",
      "Requirement already satisfied: idna<4,>=2.5 in /Users/User/opt/anaconda3/lib/python3.8/site-packages (from requests->pixiedust->pixiedust_node) (3.3)\n",
      "Requirement already satisfied: certifi>=2017.4.17 in /Users/User/opt/anaconda3/lib/python3.8/site-packages (from requests->pixiedust->pixiedust_node) (2021.10.8)\n",
      "Building wheels for collected packages: pixiedust-node\n",
      "  Building wheel for pixiedust-node (setup.py) ... \u001b[?25ldone\n",
      "\u001b[?25h  Created wheel for pixiedust-node: filename=pixiedust_node-0.2.5-py2.py3-none-any.whl size=9405 sha256=0ebed17142dda1aa86acbf55d550633b3d67666f33ef71a2e2e80fb4c539b479\n",
      "  Stored in directory: /Users/User/Library/Caches/pip/wheels/5a/ae/07/f8b75c8092da9cc0d6eb9cf3677d427152bdcdc13cdec95353\n",
      "Successfully built pixiedust-node\n",
      "Installing collected packages: pixiedust-node\n",
      "Successfully installed pixiedust-node-0.2.5\n",
      "Note: you may need to restart the kernel to use updated packages.\n"
     ]
    }
   ],
   "source": [
    "pip install pixiedust_node"
   ]
  },
  {
   "cell_type": "code",
   "execution_count": 8,
   "id": "386b6873",
   "metadata": {},
   "outputs": [
    {
     "name": "stdout",
     "output_type": "stream",
     "text": [
      "Pixiedust database opened successfully\n",
      "Table VERSION_TRACKER created successfully\n",
      "Table METRICS_TRACKER created successfully\n",
      "\n",
      "Share anonymous install statistics? (opt-out instructions)\n",
      "\n",
      "PixieDust will record metadata on its environment the next time the package is installed or updated. The data is anonymized and aggregated to help plan for future releases, and records only the following values:\n",
      "\n",
      "{\n",
      "   \"data_sent\": currentDate,\n",
      "   \"runtime\": \"python\",\n",
      "   \"application_version\": currentPixiedustVersion,\n",
      "   \"space_id\": nonIdentifyingUniqueId,\n",
      "   \"config\": {\n",
      "       \"repository_id\": \"https://github.com/ibm-watson-data-lab/pixiedust\",\n",
      "       \"target_runtimes\": [\"Data Science Experience\"],\n",
      "       \"event_id\": \"web\",\n",
      "       \"event_organizer\": \"dev-journeys\"\n",
      "   }\n",
      "}\n",
      "You can opt out by calling pixiedust.optOut() in a new cell.\n"
     ]
    },
    {
     "data": {
      "text/html": [
       "\n",
       "        <div style=\"margin:10px\">\n",
       "            <a href=\"https://github.com/ibm-watson-data-lab/pixiedust\" target=\"_new\">\n",
       "                <img src=\"https://github.com/ibm-watson-data-lab/pixiedust/raw/master/docs/_static/pd_icon32.png\" style=\"float:left;margin-right:10px\"/>\n",
       "            </a>\n",
       "            <span>Pixiedust version 1.1.19</span>\n",
       "        </div>\n",
       "        "
      ],
      "text/plain": [
       "<IPython.core.display.HTML object>"
      ]
     },
     "metadata": {},
     "output_type": "display_data"
    },
    {
     "name": "stdout",
     "output_type": "stream",
     "text": [
      "\u001b[31mPixiedust runtime updated. Please restart kernel\u001b[0m\n",
      "Table USER_PREFERENCES created successfully\n",
      "Table service_connections created successfully\n"
     ]
    },
    {
     "data": {
      "text/html": [
       "\n",
       "            <div style=\"margin:10px\"> \n",
       "            <a href=\"https://github.com/ibm-cds-labs/pixiedust_node\" target=\"_new\"> \n",
       "            <img src=\"https://github.com/ibm-cds-labs/pixiedust_node/raw/master/docs/_images/pdn_icon32.png\" style=\"float:left;margin-right:10px\"/> \n",
       "            </a> \n",
       "            <span>Pixiedust Node.js</span> \n",
       "            </div> \n"
      ],
      "text/plain": [
       "<IPython.core.display.HTML object>"
      ]
     },
     "metadata": {},
     "output_type": "display_data"
    },
    {
     "name": "stdout",
     "output_type": "stream",
     "text": [
      "pixiedust_node 0.2.5 started. Cells starting '%%node' may contain Node.js code.\n"
     ]
    }
   ],
   "source": [
    "import pixiedust_node"
   ]
  },
  {
   "cell_type": "code",
   "execution_count": 9,
   "id": "9b9132d7",
   "metadata": {},
   "outputs": [
    {
     "name": "stdout",
     "output_type": "stream",
     "text": [
      "Requirement already satisfied: jupyterlab-git in /Users/User/opt/anaconda3/lib/python3.8/site-packages (0.34.0)\n",
      "Requirement already satisfied: packaging in /Users/User/opt/anaconda3/lib/python3.8/site-packages (from jupyterlab-git) (21.3)\n",
      "Requirement already satisfied: jupyter-server in /Users/User/opt/anaconda3/lib/python3.8/site-packages (from jupyterlab-git) (1.4.1)\n",
      "Requirement already satisfied: pexpect in /Users/User/opt/anaconda3/lib/python3.8/site-packages (from jupyterlab-git) (4.8.0)\n",
      "Requirement already satisfied: nbdime~=3.1 in /Users/User/opt/anaconda3/lib/python3.8/site-packages (from jupyterlab-git) (3.1.1)\n",
      "Requirement already satisfied: nbformat in /Users/User/opt/anaconda3/lib/python3.8/site-packages (from jupyterlab-git) (5.1.3)\n",
      "Requirement already satisfied: GitPython!=2.1.4,!=2.1.5,!=2.1.6 in /Users/User/opt/anaconda3/lib/python3.8/site-packages (from nbdime~=3.1->jupyterlab-git) (3.1.18)\n",
      "Requirement already satisfied: jinja2>=2.9 in /Users/User/opt/anaconda3/lib/python3.8/site-packages (from nbdime~=3.1->jupyterlab-git) (2.11.3)\n",
      "Requirement already satisfied: tornado in /Users/User/opt/anaconda3/lib/python3.8/site-packages (from nbdime~=3.1->jupyterlab-git) (6.1)\n",
      "Requirement already satisfied: requests in /Users/User/opt/anaconda3/lib/python3.8/site-packages (from nbdime~=3.1->jupyterlab-git) (2.26.0)\n",
      "Requirement already satisfied: colorama in /Users/User/opt/anaconda3/lib/python3.8/site-packages (from nbdime~=3.1->jupyterlab-git) (0.4.4)\n",
      "Requirement already satisfied: pygments in /Users/User/opt/anaconda3/lib/python3.8/site-packages (from nbdime~=3.1->jupyterlab-git) (2.10.0)\n",
      "Requirement already satisfied: jupyter-server-mathjax>=0.2.2 in /Users/User/opt/anaconda3/lib/python3.8/site-packages (from nbdime~=3.1->jupyterlab-git) (0.2.3)\n",
      "Requirement already satisfied: gitdb<5,>=4.0.1 in /Users/User/opt/anaconda3/lib/python3.8/site-packages (from GitPython!=2.1.4,!=2.1.5,!=2.1.6->nbdime~=3.1->jupyterlab-git) (4.0.7)\n",
      "Requirement already satisfied: smmap<5,>=3.0.1 in /Users/User/opt/anaconda3/lib/python3.8/site-packages (from gitdb<5,>=4.0.1->GitPython!=2.1.4,!=2.1.5,!=2.1.6->nbdime~=3.1->jupyterlab-git) (4.0.0)\n",
      "Requirement already satisfied: MarkupSafe>=0.23 in /Users/User/opt/anaconda3/lib/python3.8/site-packages (from jinja2>=2.9->nbdime~=3.1->jupyterlab-git) (1.1.1)\n",
      "Requirement already satisfied: terminado>=0.8.3 in /Users/User/opt/anaconda3/lib/python3.8/site-packages (from jupyter-server->jupyterlab-git) (0.9.4)\n",
      "Requirement already satisfied: prometheus-client in /Users/User/opt/anaconda3/lib/python3.8/site-packages (from jupyter-server->jupyterlab-git) (0.12.0)\n",
      "Requirement already satisfied: nbconvert in /Users/User/opt/anaconda3/lib/python3.8/site-packages (from jupyter-server->jupyterlab-git) (6.1.0)\n",
      "Requirement already satisfied: pyzmq>=17 in /Users/User/opt/anaconda3/lib/python3.8/site-packages (from jupyter-server->jupyterlab-git) (22.3.0)\n",
      "Requirement already satisfied: jupyter-core>=4.4.0 in /Users/User/opt/anaconda3/lib/python3.8/site-packages (from jupyter-server->jupyterlab-git) (4.9.1)\n",
      "Requirement already satisfied: jupyter-client>=6.1.1 in /Users/User/opt/anaconda3/lib/python3.8/site-packages (from jupyter-server->jupyterlab-git) (6.1.12)\n",
      "Requirement already satisfied: anyio>=2.0.2 in /Users/User/opt/anaconda3/lib/python3.8/site-packages (from jupyter-server->jupyterlab-git) (2.2.0)\n",
      "Requirement already satisfied: ipython-genutils in /Users/User/opt/anaconda3/lib/python3.8/site-packages (from jupyter-server->jupyterlab-git) (0.2.0)\n",
      "Requirement already satisfied: traitlets>=4.2.1 in /Users/User/opt/anaconda3/lib/python3.8/site-packages (from jupyter-server->jupyterlab-git) (5.1.1)\n",
      "Requirement already satisfied: Send2Trash in /Users/User/opt/anaconda3/lib/python3.8/site-packages (from jupyter-server->jupyterlab-git) (1.8.0)\n",
      "Requirement already satisfied: sniffio>=1.1 in /Users/User/opt/anaconda3/lib/python3.8/site-packages (from anyio>=2.0.2->jupyter-server->jupyterlab-git) (1.2.0)\n",
      "Requirement already satisfied: idna>=2.8 in /Users/User/opt/anaconda3/lib/python3.8/site-packages (from anyio>=2.0.2->jupyter-server->jupyterlab-git) (3.3)\n",
      "Requirement already satisfied: python-dateutil>=2.1 in /Users/User/opt/anaconda3/lib/python3.8/site-packages (from jupyter-client>=6.1.1->jupyter-server->jupyterlab-git) (2.8.2)\n",
      "Requirement already satisfied: six>=1.5 in /Users/User/opt/anaconda3/lib/python3.8/site-packages (from python-dateutil>=2.1->jupyter-client>=6.1.1->jupyter-server->jupyterlab-git) (1.16.0)\n",
      "Requirement already satisfied: ptyprocess in /Users/User/opt/anaconda3/lib/python3.8/site-packages (from terminado>=0.8.3->jupyter-server->jupyterlab-git) (0.7.0)\n",
      "Requirement already satisfied: jupyterlab-pygments in /Users/User/opt/anaconda3/lib/python3.8/site-packages (from nbconvert->jupyter-server->jupyterlab-git) (0.1.2)\n",
      "Requirement already satisfied: entrypoints>=0.2.2 in /Users/User/opt/anaconda3/lib/python3.8/site-packages (from nbconvert->jupyter-server->jupyterlab-git) (0.3)\n",
      "Requirement already satisfied: testpath in /Users/User/opt/anaconda3/lib/python3.8/site-packages (from nbconvert->jupyter-server->jupyterlab-git) (0.5.0)\n",
      "Requirement already satisfied: defusedxml in /Users/User/opt/anaconda3/lib/python3.8/site-packages (from nbconvert->jupyter-server->jupyterlab-git) (0.7.1)\n",
      "Requirement already satisfied: bleach in /Users/User/opt/anaconda3/lib/python3.8/site-packages (from nbconvert->jupyter-server->jupyterlab-git) (4.0.0)\n",
      "Requirement already satisfied: pandocfilters>=1.4.1 in /Users/User/opt/anaconda3/lib/python3.8/site-packages (from nbconvert->jupyter-server->jupyterlab-git) (1.4.3)\n",
      "Requirement already satisfied: nbclient<0.6.0,>=0.5.0 in /Users/User/opt/anaconda3/lib/python3.8/site-packages (from nbconvert->jupyter-server->jupyterlab-git) (0.5.3)\n",
      "Requirement already satisfied: mistune<2,>=0.8.1 in /Users/User/opt/anaconda3/lib/python3.8/site-packages (from nbconvert->jupyter-server->jupyterlab-git) (0.8.4)\n",
      "Requirement already satisfied: nest-asyncio in /Users/User/opt/anaconda3/lib/python3.8/site-packages (from nbclient<0.6.0,>=0.5.0->nbconvert->jupyter-server->jupyterlab-git) (1.5.1)\n",
      "Requirement already satisfied: async-generator in /Users/User/opt/anaconda3/lib/python3.8/site-packages (from nbclient<0.6.0,>=0.5.0->nbconvert->jupyter-server->jupyterlab-git) (1.10)\n",
      "Requirement already satisfied: jsonschema!=2.5.0,>=2.4 in /Users/User/opt/anaconda3/lib/python3.8/site-packages (from nbformat->jupyterlab-git) (3.2.0)\n",
      "Requirement already satisfied: attrs>=17.4.0 in /Users/User/opt/anaconda3/lib/python3.8/site-packages (from jsonschema!=2.5.0,>=2.4->nbformat->jupyterlab-git) (21.2.0)\n",
      "Requirement already satisfied: setuptools in /Users/User/opt/anaconda3/lib/python3.8/site-packages (from jsonschema!=2.5.0,>=2.4->nbformat->jupyterlab-git) (58.0.4)\n",
      "Requirement already satisfied: pyrsistent>=0.14.0 in /Users/User/opt/anaconda3/lib/python3.8/site-packages (from jsonschema!=2.5.0,>=2.4->nbformat->jupyterlab-git) (0.18.0)\n",
      "Requirement already satisfied: webencodings in /Users/User/opt/anaconda3/lib/python3.8/site-packages (from bleach->nbconvert->jupyter-server->jupyterlab-git) (0.5.1)\n",
      "Requirement already satisfied: pyparsing!=3.0.5,>=2.0.2 in /Users/User/opt/anaconda3/lib/python3.8/site-packages (from packaging->jupyterlab-git) (3.0.4)\n",
      "Requirement already satisfied: certifi>=2017.4.17 in /Users/User/opt/anaconda3/lib/python3.8/site-packages (from requests->nbdime~=3.1->jupyterlab-git) (2021.10.8)\n",
      "Requirement already satisfied: charset-normalizer~=2.0.0 in /Users/User/opt/anaconda3/lib/python3.8/site-packages (from requests->nbdime~=3.1->jupyterlab-git) (2.0.4)\n",
      "Requirement already satisfied: urllib3<1.27,>=1.21.1 in /Users/User/opt/anaconda3/lib/python3.8/site-packages (from requests->nbdime~=3.1->jupyterlab-git) (1.26.7)\n",
      "Note: you may need to restart the kernel to use updated packages.\n"
     ]
    }
   ],
   "source": [
    "pip install jupyterlab-git"
   ]
  },
  {
   "cell_type": "code",
   "execution_count": null,
   "id": "b75be1a9",
   "metadata": {},
   "outputs": [],
   "source": []
  }
 ],
 "metadata": {
  "kernelspec": {
   "display_name": "Python 3 (ipykernel)",
   "language": "python",
   "name": "python3"
  },
  "language_info": {
   "codemirror_mode": {
    "name": "ipython",
    "version": 3
   },
   "file_extension": ".py",
   "mimetype": "text/x-python",
   "name": "python",
   "nbconvert_exporter": "python",
   "pygments_lexer": "ipython3",
   "version": "3.8.8"
  }
 },
 "nbformat": 4,
 "nbformat_minor": 5
}
