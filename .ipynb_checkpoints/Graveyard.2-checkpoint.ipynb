{
 "cells": [
  {
   "cell_type": "code",
   "execution_count": 1,
   "id": "de49a147",
   "metadata": {},
   "outputs": [
    {
     "name": "stdout",
     "output_type": "stream",
     "text": [
      "Requirement already satisfied: bs4 in /opt/anaconda3/lib/python3.8/site-packages (0.0.1)\n",
      "Requirement already satisfied: beautifulsoup4 in /opt/anaconda3/lib/python3.8/site-packages (from bs4) (4.9.3)\n",
      "Requirement already satisfied: soupsieve>1.2 in /opt/anaconda3/lib/python3.8/site-packages (from beautifulsoup4->bs4) (2.2.1)\n",
      "Note: you may need to restart the kernel to use updated packages.\n"
     ]
    }
   ],
   "source": [
    "pip install bs4"
   ]
  },
  {
   "cell_type": "code",
   "execution_count": 3,
   "id": "e16cfc02",
   "metadata": {},
   "outputs": [],
   "source": [
    "#import required module\n",
    "import requests\n",
    "import time\n",
    "from bs4 import BeautifulSoup"
   ]
  },
  {
   "cell_type": "code",
   "execution_count": 2,
   "id": "c14d8c26",
   "metadata": {},
   "outputs": [
    {
     "ename": "NameError",
     "evalue": "name 'requests' is not defined",
     "output_type": "error",
     "traceback": [
      "\u001b[0;31m---------------------------------------------------------------------------\u001b[0m",
      "\u001b[0;31mNameError\u001b[0m                                 Traceback (most recent call last)",
      "\u001b[0;32m<ipython-input-2-e9cd9a72ebc1>\u001b[0m in \u001b[0;36m<module>\u001b[0;34m\u001b[0m\n\u001b[1;32m      4\u001b[0m \u001b[0;31m#get URL content\u001b[0m\u001b[0;34m\u001b[0m\u001b[0;34m\u001b[0m\u001b[0;34m\u001b[0m\u001b[0m\n\u001b[1;32m      5\u001b[0m \u001b[0;34m\u001b[0m\u001b[0m\n\u001b[0;32m----> 6\u001b[0;31m \u001b[0mresponse\u001b[0m \u001b[0;34m=\u001b[0m \u001b[0mrequests\u001b[0m\u001b[0;34m.\u001b[0m\u001b[0mget\u001b[0m\u001b[0;34m(\u001b[0m\u001b[0murl\u001b[0m\u001b[0;34m,\u001b[0m\u001b[0mverify\u001b[0m\u001b[0;34m=\u001b[0m\u001b[0;32mFalse\u001b[0m\u001b[0;34m)\u001b[0m\u001b[0;34m\u001b[0m\u001b[0;34m\u001b[0m\u001b[0m\n\u001b[0m\u001b[1;32m      7\u001b[0m \u001b[0;31m#print(response.text)\u001b[0m\u001b[0;34m\u001b[0m\u001b[0;34m\u001b[0m\u001b[0;34m\u001b[0m\u001b[0m\n\u001b[1;32m      8\u001b[0m \u001b[0mhtml\u001b[0m \u001b[0;34m=\u001b[0m \u001b[0mresponse\u001b[0m\u001b[0;34m.\u001b[0m\u001b[0mtext\u001b[0m\u001b[0;34m\u001b[0m\u001b[0;34m\u001b[0m\u001b[0m\n",
      "\u001b[0;31mNameError\u001b[0m: name 'requests' is not defined"
     ]
    }
   ],
   "source": [
    "#web URL\n",
    "\n",
    "url = \"https://www.justice.gov/eoir/eoir-policy-manual/part-ii-ocij-practice-manual\"\n",
    "#get URL content\n",
    "\n",
    "response = requests.get(url,verify=False)\n",
    "#print(response.text)\n",
    "html = response.text\n",
    "\n",
    "#parse HTML Code\n",
    "soup = BeautifulSoup(html,'html.parser')\n",
    "#print(soup)\n",
    "print(soup.prettify())\n"
   ]
  },
  {
   "cell_type": "code",
   "execution_count": 30,
   "id": "c6b69c90",
   "metadata": {},
   "outputs": [
    {
     "name": "stdout",
     "output_type": "stream",
     "text": [
      "Letter from the EOIR Director\n",
      "Seal\n",
      "EOIR Leadership\n",
      "Part I - Introduction\n",
      "Part II - OCIJ Practice ManualIntroductory Information\n",
      "Chapter 1 - The Immigration Court\n",
      "Chapter 2 - Appearances Before the Immigration Court\n",
      "Chapter 3 - Filing with the Immigration Court\n",
      "Chapter 4 - Hearings Before the Immigration Judges\n",
      "Chapter 5 - Motions before the Immigration Court\n",
      "Chapter 6 - Appeals of Immigration Judge Decisions \n",
      "Chapter 7 - Other  Proceedings before Immigration Judges\n",
      "Chapter 8 - Stays\n",
      "Chapter 9 - Detention and Bond\n",
      "Chapter 10 - Discipline of Practitioners\n",
      "Chapter 11 - Forms\n",
      "Chapter 12 - Freedom of Information Act (FOIA)\n",
      "Chapter 13 - Public Input\n",
      "Chapter 14 - Local Operating Procedures\n",
      "\n",
      "Part III - BIA Practice Manual\n",
      "Part IV - OCAHO Practice Manual\n",
      "Part V - Miscellaneous\n",
      "Part VI - Operating Policies and Procedures Memoranda\n",
      "Part VII - Memoranda\n",
      "Part VIII - Uniform Docketing System Manual\n",
      "Appendices\n",
      "\n",
      "Introductory Information\n",
      "Chapter 1 - The Immigration Court\n",
      "Chapter 2 - Appearances Before the Immigration Court\n",
      "Chapter 3 - Filing with the Immigration Court\n",
      "Chapter 4 - Hearings Before the Immigration Judges\n",
      "Chapter 5 - Motions before the Immigration Court\n",
      "Chapter 6 - Appeals of Immigration Judge Decisions \n",
      "Chapter 7 - Other  Proceedings before Immigration Judges\n",
      "Chapter 8 - Stays\n",
      "Chapter 9 - Detention and Bond\n",
      "Chapter 10 - Discipline of Practitioners\n",
      "Chapter 11 - Forms\n",
      "Chapter 12 - Freedom of Information Act (FOIA)\n",
      "Chapter 13 - Public Input\n",
      "Chapter 14 - Local Operating Procedures\n",
      "\n",
      "Introductory Information\n",
      "Chapter 1 - The Immigration Court\n",
      "Chapter 2 - Appearances Before the Immigration Court\n",
      "Chapter 3 - Filing with the Immigration Court\n",
      "Chapter 4 - Hearings Before the Immigration Judges\n",
      "Chapter 5 - Motions before the Immigration Court\n",
      "Chapter 6 - Appeals of Immigration Judge Decisions \n",
      "Chapter 7 - Other  Proceedings before Immigration Judges\n",
      "Chapter 8 - Stays\n",
      "Chapter 9 - Detention and Bond\n",
      "Chapter 10 - Discipline of Practitioners\n",
      "Chapter 11 - Forms\n",
      "Chapter 12 - Freedom of Information Act (FOIA)\n",
      "Chapter 13 - Public Input\n",
      "Chapter 14 - Local Operating Procedures\n",
      "\n",
      "First Columnen ESPAÑOL\n",
      "Contact DOJ\n",
      "\n",
      "Second ColumnArchive\n",
      "Accessibility\n",
      "Information Quality\n",
      "Privacy Policy\n",
      "Legal Policies & Disclaimers\n",
      "Social Media\n",
      "\n",
      "Third ColumnBudget & Performance\n",
      "Office of the Inspector General\n",
      "No FEAR Act\n",
      "For Employees\n",
      "FOIA\n",
      "USA.gov\n",
      "Vote.gov\n",
      "\n",
      "\n",
      "en ESPAÑOL\n",
      "Contact DOJ\n",
      "\n",
      "Archive\n",
      "Accessibility\n",
      "Information Quality\n",
      "Privacy Policy\n",
      "Legal Policies & Disclaimers\n",
      "Social Media\n",
      "\n",
      "Budget & Performance\n",
      "Office of the Inspector General\n",
      "No FEAR Act\n",
      "For Employees\n",
      "FOIA\n",
      "USA.gov\n",
      "Vote.gov\n",
      "\n"
     ]
    }
   ],
   "source": [
    "#too much V1\n",
    "#first parse table of contents page -- can we scrape everything from this page?\n",
    "rows = soup.find_all('ul',attrs={'class':'menu'})\n",
    "\n",
    "# print(toc.prettify())\n",
    "\n",
    "for row in rows:\n",
    "    print(row.text)\n",
    "#     columns=row.find_all('a')\n",
    "#     for index,column in enumerate(columns):\n",
    "# #         print(index,column.text)\n",
    "#         if(index==0):\n",
    "#             mylist.append(column.text)\n",
    "        \n",
    "# print(mylist)\n",
    "\n",
    "# for x in toc:\n",
    "#     print(x.text)\n",
    "#         columns=row.find_all('a')\n",
    "#         for index,column in enumerate(columns):\n",
    "# #             print(index,column.text)\n",
    "#             if(index==0):\n",
    "#                 newlist.append(column.text)\n"
   ]
  },
  {
   "cell_type": "code",
   "execution_count": 6,
   "id": "3cb86460",
   "metadata": {},
   "outputs": [
    {
     "name": "stdout",
     "output_type": "stream",
     "text": [
      "['Introductory Information', 'Chapter 1 - The Immigration Court', 'Chapter 2 - Appearances Before the Immigration Court', 'Chapter 3 - Filing with the Immigration Court', 'Chapter 4 - Hearings Before the Immigration Judges', 'Chapter 5 - Motions before the Immigration Court', 'Chapter 6 - Appeals of Immigration Judge Decisions ', 'Chapter 7 - Other  Proceedings before Immigration Judges', 'Chapter 8 - Stays', 'Chapter 9 - Detention and Bond', 'Chapter 10 - Discipline of Practitioners', 'Chapter 11 - Forms', 'Chapter 12 - Freedom of Information Act (FOIA)', 'Chapter 13 - Public Input', 'Chapter 14 - Local Operating Procedures']\n"
     ]
    },
    {
     "name": "stderr",
     "output_type": "stream",
     "text": [
      "/Users/User/opt/anaconda3/lib/python3.8/site-packages/urllib3/connectionpool.py:1013: InsecureRequestWarning: Unverified HTTPS request is being made to host 'www.justice.gov'. Adding certificate verification is strongly advised. See: https://urllib3.readthedocs.io/en/latest/advanced-usage.html#ssl-warnings\n",
      "  warnings.warn(\n"
     ]
    }
   ],
   "source": [
    "#TOConly version\n",
    "#import required module\n",
    "import requests\n",
    "import time\n",
    "from bs4 import BeautifulSoup\n",
    "\n",
    "#web URL\n",
    "\n",
    "url = \"https://www.justice.gov/eoir/eoir-policy-manual/part-ii-ocij-practice-manual\"\n",
    "#get URL content\n",
    "\n",
    "response = requests.get(url,verify=False)\n",
    "#print(response.text)\n",
    "html = response.text\n",
    "\n",
    "#parse HTML Code\n",
    "soup = BeautifulSoup(html,'html.parser')\n",
    "#print(soup)\n",
    "#print(soup.prettify())\n",
    "\n",
    "#first parse table of contents page -- can we scrape everything from this page?\n",
    "rows = soup.find_all('div',attrs={'class':'book-navigation'})\n",
    "\n",
    "# print(toc.prettify())\n",
    "toc=[]\n",
    "for row in rows:\n",
    "#     print(row.text)\n",
    "    columns=row.find_all('a')\n",
    "    for index,column in enumerate(columns):\n",
    "#         print(index,column.text)\n",
    "        if(index<15):\n",
    "            toc.append(column.text)\n",
    "        \n",
    "print(toc)"
   ]
  },
  {
   "cell_type": "code",
   "execution_count": 7,
   "id": "51c41ba5",
   "metadata": {},
   "outputs": [
    {
     "name": "stderr",
     "output_type": "stream",
     "text": [
      "/Users/User/opt/anaconda3/lib/python3.8/site-packages/urllib3/connectionpool.py:1013: InsecureRequestWarning: Unverified HTTPS request is being made to host 'www.justice.gov'. Adding certificate verification is strongly advised. See: https://urllib3.readthedocs.io/en/latest/advanced-usage.html#ssl-warnings\n",
      "  warnings.warn(\n"
     ]
    },
    {
     "name": "stdout",
     "output_type": "stream",
     "text": [
      "0 Introductory Information\n",
      "1 Chapter 1 - The Immigration Court\n",
      "2 Chapter 2 - Appearances Before the Immigration Court\n",
      "3 Chapter 3 - Filing with the Immigration Court\n",
      "4 Chapter 4 - Hearings Before the Immigration Judges\n",
      "5 Chapter 5 - Motions before the Immigration Court\n",
      "6 Chapter 6 - Appeals of Immigration Judge Decisions \n",
      "7 Chapter 7 - Other  Proceedings before Immigration Judges\n",
      "8 Chapter 8 - Stays\n",
      "9 Chapter 9 - Detention and Bond\n",
      "10 Chapter 10 - Discipline of Practitioners\n",
      "11 Chapter 11 - Forms\n",
      "12 Chapter 12 - Freedom of Information Act (FOIA)\n",
      "13 Chapter 13 - Public Input\n",
      "14 Chapter 14 - Local Operating Procedures\n",
      "15 ‹ Chapter 7 - Conduct and Professionalism for Adjudicators\n",
      "16 up\n",
      "17 Introductory Information ›\n"
     ]
    },
    {
     "name": "stderr",
     "output_type": "stream",
     "text": [
      "/Users/User/opt/anaconda3/lib/python3.8/site-packages/urllib3/connectionpool.py:1013: InsecureRequestWarning: Unverified HTTPS request is being made to host 'www.justice.gov'. Adding certificate verification is strongly advised. See: https://urllib3.readthedocs.io/en/latest/advanced-usage.html#ssl-warnings\n",
      "  warnings.warn(\n"
     ]
    },
    {
     "name": "stdout",
     "output_type": "stream",
     "text": [
      "0 1.1 - Scope of Part II: The Office of the Chief Immigration Judge\n",
      "1 1.2 - Function of the Office of the Chief Immigration Judge\n",
      "2 1.3 - Composition of the Office of the Chief Immigration Judge\n",
      "3  1.4 - Jurisdiction and Authority\n",
      "4 1.5 - Public Access\n",
      "5 1.6 - Inquiries\n",
      "6 ‹ Introductory Information\n",
      "7 up\n",
      "8 1.1 - Scope of Part II: The Office of the Chief Immigration Judge ›\n"
     ]
    },
    {
     "name": "stderr",
     "output_type": "stream",
     "text": [
      "/Users/User/opt/anaconda3/lib/python3.8/site-packages/urllib3/connectionpool.py:1013: InsecureRequestWarning: Unverified HTTPS request is being made to host 'www.justice.gov'. Adding certificate verification is strongly advised. See: https://urllib3.readthedocs.io/en/latest/advanced-usage.html#ssl-warnings\n",
      "  warnings.warn(\n"
     ]
    },
    {
     "name": "stdout",
     "output_type": "stream",
     "text": [
      "0 2.1 - Representation Generally\n",
      "1 2.2 - Unrepresented Aliens (\"Pro se\" Appearances)\n",
      "2 2.3 - Attorneys\n",
      "3 2.4 - Accredited Representatives and Recognized Organizations\n",
      "4 2.5 - Law Students and Law Graduates\n",
      "5 2.6 - Paralegals\n",
      "6 2.7 - Immigration Specialists\n",
      "7 2.8 - Family Members\n",
      "8 2.9 - Others\n",
      "9 ‹ 1.6 - Inquiries\n",
      "10 up\n",
      "11 2.1 - Representation Generally ›\n"
     ]
    },
    {
     "name": "stderr",
     "output_type": "stream",
     "text": [
      "/Users/User/opt/anaconda3/lib/python3.8/site-packages/urllib3/connectionpool.py:1013: InsecureRequestWarning: Unverified HTTPS request is being made to host 'www.justice.gov'. Adding certificate verification is strongly advised. See: https://urllib3.readthedocs.io/en/latest/advanced-usage.html#ssl-warnings\n",
      "  warnings.warn(\n"
     ]
    },
    {
     "name": "stdout",
     "output_type": "stream",
     "text": [
      "0 3.1 - Delivery and Receipt\n",
      "1 3.2 - Service on the Opposing Party\n",
      "2 3.3 - Documents\n",
      "3  3.4 - Filing Fees\n",
      "4 ‹ 2.9 - Others\n",
      "5 up\n",
      "6 3.1 - Delivery and Receipt ›\n"
     ]
    },
    {
     "name": "stderr",
     "output_type": "stream",
     "text": [
      "/Users/User/opt/anaconda3/lib/python3.8/site-packages/urllib3/connectionpool.py:1013: InsecureRequestWarning: Unverified HTTPS request is being made to host 'www.justice.gov'. Adding certificate verification is strongly advised. See: https://urllib3.readthedocs.io/en/latest/advanced-usage.html#ssl-warnings\n",
      "  warnings.warn(\n",
      "/Users/User/opt/anaconda3/lib/python3.8/site-packages/urllib3/connectionpool.py:1013: InsecureRequestWarning: Unverified HTTPS request is being made to host 'www.justice.gov'. Adding certificate verification is strongly advised. See: https://urllib3.readthedocs.io/en/latest/advanced-usage.html#ssl-warnings\n",
      "  warnings.warn(\n"
     ]
    },
    {
     "name": "stdout",
     "output_type": "stream",
     "text": [
      "0 5.1 - Who May File\n",
      "1 5.2 - Filing a Motion\n",
      "2 5.3 - Motion Limits\n",
      "3 5.4 - Multiple Motions\n",
      "4 5.5 - Motion Briefs\n",
      "5 5.6 - Transcript Requests\n",
      "6 5.7 - Motions to Reopen\n",
      "7 5.8 - Motions to Reconsider\n",
      "8 5.9 - Motions to Reopen In Absentia Orders\n",
      "9 5.10 - Other Motions\n",
      "10 5.11 - Decisions\n",
      "11 5.12 - Response to Motion\n",
      "12 ‹ 4.22 - Juveniles\n",
      "13 up\n",
      "14 5.1 - Who May File ›\n"
     ]
    },
    {
     "name": "stderr",
     "output_type": "stream",
     "text": [
      "/Users/User/opt/anaconda3/lib/python3.8/site-packages/urllib3/connectionpool.py:1013: InsecureRequestWarning: Unverified HTTPS request is being made to host 'www.justice.gov'. Adding certificate verification is strongly advised. See: https://urllib3.readthedocs.io/en/latest/advanced-usage.html#ssl-warnings\n",
      "  warnings.warn(\n",
      "/Users/User/opt/anaconda3/lib/python3.8/site-packages/urllib3/connectionpool.py:1013: InsecureRequestWarning: Unverified HTTPS request is being made to host 'www.justice.gov'. Adding certificate verification is strongly advised. See: https://urllib3.readthedocs.io/en/latest/advanced-usage.html#ssl-warnings\n",
      "  warnings.warn(\n"
     ]
    },
    {
     "name": "stdout",
     "output_type": "stream",
     "text": [
      "0 7.1 - Overview\n",
      "1 7.2 - Deportation Proceedings and Exclusion Proceedings\n",
      "2 7.3 - Rescission Proceedings\n",
      "3 7.4 - Limited Proceedings\n",
      "4 7.5 - ABC Settlement\n",
      "5 ‹ 6.6 - Additional Information\n",
      "6 up\n",
      "7 7.1 - Overview ›\n"
     ]
    },
    {
     "name": "stderr",
     "output_type": "stream",
     "text": [
      "/Users/User/opt/anaconda3/lib/python3.8/site-packages/urllib3/connectionpool.py:1013: InsecureRequestWarning: Unverified HTTPS request is being made to host 'www.justice.gov'. Adding certificate verification is strongly advised. See: https://urllib3.readthedocs.io/en/latest/advanced-usage.html#ssl-warnings\n",
      "  warnings.warn(\n"
     ]
    },
    {
     "name": "stdout",
     "output_type": "stream",
     "text": [
      "0 8.1 - In General\n",
      "1 8.2 - Automatic Stays\n",
      "2 8.3 - Discretionary Stays\n",
      "3 ‹ 7.5 - ABC Settlement\n",
      "4 up\n",
      "5 8.1 - In General ›\n"
     ]
    },
    {
     "name": "stderr",
     "output_type": "stream",
     "text": [
      "/Users/User/opt/anaconda3/lib/python3.8/site-packages/urllib3/connectionpool.py:1013: InsecureRequestWarning: Unverified HTTPS request is being made to host 'www.justice.gov'. Adding certificate verification is strongly advised. See: https://urllib3.readthedocs.io/en/latest/advanced-usage.html#ssl-warnings\n",
      "  warnings.warn(\n"
     ]
    },
    {
     "name": "stdout",
     "output_type": "stream",
     "text": [
      "0 9.1 - Detention\n",
      "1 9.2 - Detained Juveniles\n",
      "2 9.3 - Bond Proceedings\n",
      "3 9.4 - Detention Review\n",
      "4 ‹ 8.3 - Discretionary Stays\n",
      "5 up\n",
      "6 9.1 - Detention ›\n"
     ]
    },
    {
     "name": "stderr",
     "output_type": "stream",
     "text": [
      "/Users/User/opt/anaconda3/lib/python3.8/site-packages/urllib3/connectionpool.py:1013: InsecureRequestWarning: Unverified HTTPS request is being made to host 'www.justice.gov'. Adding certificate verification is strongly advised. See: https://urllib3.readthedocs.io/en/latest/advanced-usage.html#ssl-warnings\n",
      "  warnings.warn(\n"
     ]
    },
    {
     "name": "stdout",
     "output_type": "stream",
     "text": [
      "0 10.1 - Practitioner Discipline Generally\n",
      "1 10.2 - Definition of Practitioner and Recognized Organization\n",
      "2 10.3 - Jurisdiction\n",
      "3 10.4 - Conduct\n",
      "4 10.5 - Filing a Complaint\n",
      "5 10.6 - Duty to Report\n",
      "6 10.7 - Disciplinary Proceedings\n",
      "7 10.8 - Notice to Public\n",
      "8 10.9 - Effect on Practitioner's Pending Immigration Cases\n",
      "9 10.10 - Reinstatement\n",
      "10 ‹ 9.4 - Detention Review\n",
      "11 up\n",
      "12 10.1 - Practitioner Discipline Generally ›\n"
     ]
    },
    {
     "name": "stderr",
     "output_type": "stream",
     "text": [
      "/Users/User/opt/anaconda3/lib/python3.8/site-packages/urllib3/connectionpool.py:1013: InsecureRequestWarning: Unverified HTTPS request is being made to host 'www.justice.gov'. Adding certificate verification is strongly advised. See: https://urllib3.readthedocs.io/en/latest/advanced-usage.html#ssl-warnings\n",
      "  warnings.warn(\n"
     ]
    },
    {
     "name": "stdout",
     "output_type": "stream",
     "text": [
      "0 11.1 - Forms Generally\n",
      "1 11.2 - Obtaining Blank Forms\n",
      "2 11.3 - Submitting Completed Forms\n",
      "3 11.4 - Additional Information\n",
      "4 ‹ 10.10 - Reinstatement\n",
      "5 up\n",
      "6 11.1 - Forms Generally ›\n"
     ]
    },
    {
     "name": "stderr",
     "output_type": "stream",
     "text": [
      "/Users/User/opt/anaconda3/lib/python3.8/site-packages/urllib3/connectionpool.py:1013: InsecureRequestWarning: Unverified HTTPS request is being made to host 'www.justice.gov'. Adding certificate verification is strongly advised. See: https://urllib3.readthedocs.io/en/latest/advanced-usage.html#ssl-warnings\n",
      "  warnings.warn(\n"
     ]
    },
    {
     "name": "stdout",
     "output_type": "stream",
     "text": [
      "0 12.1 - Generally\n",
      "1 12.2 - Requests\n",
      "2 12.3 - Denials\n",
      "3 ‹ 11.4 - Additional Information\n",
      "4 up\n",
      "5 12.1 - Generally ›\n"
     ]
    },
    {
     "name": "stderr",
     "output_type": "stream",
     "text": [
      "/Users/User/opt/anaconda3/lib/python3.8/site-packages/urllib3/connectionpool.py:1013: InsecureRequestWarning: Unverified HTTPS request is being made to host 'www.justice.gov'. Adding certificate verification is strongly advised. See: https://urllib3.readthedocs.io/en/latest/advanced-usage.html#ssl-warnings\n",
      "  warnings.warn(\n"
     ]
    },
    {
     "name": "stdout",
     "output_type": "stream",
     "text": [
      "0 ‹ 12.3 - Denials\n",
      "1 up\n",
      "2 Chapter 14 - Local Operating Procedures ›\n"
     ]
    }
   ],
   "source": [
    "#trying to scrape Chapter 1: headings and content in the link\n",
    "\n",
    "one=[]\n",
    "page=1\n",
    "\n",
    "while page<15:\n",
    "    response = requests.get(url,verify=False)\n",
    "    html = response.text\n",
    "    soup = BeautifulSoup(html,'html.parser')\n",
    "    url = \"https://www.justice.gov/eoir/eoir-policy-manual/\" + str(page)  \n",
    "    rows = soup.find_all('div',attrs={'class':'book-navigation'})\n",
    "    for row in rows:\n",
    "#     print(row.text)\n",
    "        columns=row.find_all('a')\n",
    "        for index,column in enumerate(columns):\n",
    "            print(index,column.text)\n",
    "#             if(index==0):\n",
    "#                 one.append(column.text)\n",
    "    page=page+1\n",
    "    time.sleep(1)\n",
    "# print(one)"
   ]
  },
  {
   "cell_type": "code",
   "execution_count": null,
   "id": "ef9500e1",
   "metadata": {},
   "outputs": [],
   "source": [
    "#pull href links\n",
    "rows = soup.find_all('li',attrs={'class':'collapsed'})\n",
    "\n",
    "# print(toc.prettify())\n",
    "toc=[]\n",
    "for row in rows:\n",
    "#     print(row.text)\n",
    "    columns=row.find_all('a')\n",
    "    for index,column in enumerate(columns):\n",
    "#         print(index,column.text)\n",
    "        if(index<7):\n",
    "            toc.append(column.text)\n",
    "        \n",
    "print(toc)"
   ]
  }
 ],
 "metadata": {
  "kernelspec": {
   "display_name": "Python 3",
   "language": "python",
   "name": "python3"
  },
  "language_info": {
   "codemirror_mode": {
    "name": "ipython",
    "version": 3
   },
   "file_extension": ".py",
   "mimetype": "text/x-python",
   "name": "python",
   "nbconvert_exporter": "python",
   "pygments_lexer": "ipython3",
   "version": "3.8.8"
  }
 },
 "nbformat": 4,
 "nbformat_minor": 5
}
