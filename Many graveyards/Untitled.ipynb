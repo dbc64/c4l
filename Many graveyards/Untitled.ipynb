{
 "cells": [
  {
   "cell_type": "code",
   "execution_count": 1,
   "id": "ff7910b0",
   "metadata": {},
   "outputs": [],
   "source": [
    "#After many good faith attempts at collecting all the relevant URLs for the immigration trial court manual (OCIJ), \n",
    "#we decided to change the plan because we were unable to create text document maintaining the hyperlinks (and various other reasons).\n",
    "#Without the hyperlinks, the text document wouldn't be as useable.\n",
    "\n",
    "#This is a program that takes input and searches all pages of the OCIJ manual.\n",
    "#The idea is that an attorney could essentially 'ctl-f' the manual to find all sections that mention their input."
   ]
  },
  {
   "cell_type": "code",
   "execution_count": null,
   "id": "a383ea5d",
   "metadata": {},
   "outputs": [],
   "source": [
    "search = input(\"Search immigration court practice manual: \") "
   ]
  },
  {
   "cell_type": "code",
   "execution_count": null,
   "id": "870dd460",
   "metadata": {},
   "outputs": [],
   "source": [
    "print('searching' + search)"
   ]
  },
  {
   "cell_type": "code",
   "execution_count": null,
   "id": "dd0499f2",
   "metadata": {},
   "outputs": [],
   "source": []
  },
  {
   "cell_type": "code",
   "execution_count": null,
   "id": "78eadf3d",
   "metadata": {},
   "outputs": [],
   "source": []
  }
 ],
 "metadata": {
  "kernelspec": {
   "display_name": "Python 3 (ipykernel)",
   "language": "python",
   "name": "python3"
  },
  "language_info": {
   "codemirror_mode": {
    "name": "ipython",
    "version": 3
   },
   "file_extension": ".py",
   "mimetype": "text/x-python",
   "name": "python",
   "nbconvert_exporter": "python",
   "pygments_lexer": "ipython3",
   "version": "3.8.8"
  }
 },
 "nbformat": 4,
 "nbformat_minor": 5
}
