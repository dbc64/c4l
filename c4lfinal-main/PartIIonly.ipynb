{
 "cells": [
  {
   "cell_type": "code",
   "execution_count": 14,
   "id": "de49a147",
   "metadata": {},
   "outputs": [
    {
     "name": "stdout",
     "output_type": "stream",
     "text": [
      "Requirement already satisfied: bs4 in /Users/User/opt/anaconda3/lib/python3.8/site-packages (0.0.1)\n",
      "Requirement already satisfied: beautifulsoup4 in /Users/User/opt/anaconda3/lib/python3.8/site-packages (from bs4) (4.9.3)\n",
      "Requirement already satisfied: soupsieve>1.2 in /Users/User/opt/anaconda3/lib/python3.8/site-packages (from beautifulsoup4->bs4) (2.2.1)\n",
      "Note: you may need to restart the kernel to use updated packages.\n"
     ]
    }
   ],
   "source": [
    "pip install bs4"
   ]
  },
  {
   "cell_type": "code",
   "execution_count": 15,
   "id": "e16cfc02",
   "metadata": {},
   "outputs": [],
   "source": [
    "#import required module\n",
    "import requests\n",
    "import time\n",
    "from bs4 import BeautifulSoup\n",
    "import urllib\n"
   ]
  },
  {
   "cell_type": "code",
   "execution_count": 16,
   "id": "c14d8c26",
   "metadata": {},
   "outputs": [
    {
     "name": "stderr",
     "output_type": "stream",
     "text": [
      "/Users/User/opt/anaconda3/lib/python3.8/site-packages/urllib3/connectionpool.py:1013: InsecureRequestWarning: Unverified HTTPS request is being made to host 'www.justice.gov'. Adding certificate verification is strongly advised. See: https://urllib3.readthedocs.io/en/latest/advanced-usage.html#ssl-warnings\n",
      "  warnings.warn(\n"
     ]
    }
   ],
   "source": [
    "#web URL\n",
    "\n",
    "url = \"https://www.justice.gov/eoir/eoir-policy-manual\"\n",
    "#get URL content\n",
    "\n",
    "response = requests.get(url,verify=False)\n",
    "#print(response.text)\n",
    "html = response.text\n",
    "\n",
    "#parse HTML Code\n",
    "soup = BeautifulSoup(html,'html.parser')\n",
    "#print(soup)\n",
    "#print(soup.prettify())\n"
   ]
  },
  {
   "cell_type": "code",
   "execution_count": 24,
   "id": "e2c99895",
   "metadata": {},
   "outputs": [
    {
     "ename": "SyntaxError",
     "evalue": "invalid syntax (<ipython-input-24-31c0901fd071>, line 1)",
     "output_type": "error",
     "traceback": [
      "\u001b[0;36m  File \u001b[0;32m\"<ipython-input-24-31c0901fd071>\"\u001b[0;36m, line \u001b[0;32m1\u001b[0m\n\u001b[0;31m    pip install requests\u001b[0m\n\u001b[0m        ^\u001b[0m\n\u001b[0;31mSyntaxError\u001b[0m\u001b[0;31m:\u001b[0m invalid syntax\n"
     ]
    }
   ],
   "source": [
    "pip install requests\n",
    "pip install requests-HTML\n",
    "pip install pandas\n",
    "pip install regex\n",
    "pip install urlparse4"
   ]
  },
  {
   "cell_type": "code",
   "execution_count": 18,
   "id": "c6b69c90",
   "metadata": {},
   "outputs": [
    {
     "ename": "ModuleNotFoundError",
     "evalue": "No module named 'requests_html'",
     "output_type": "error",
     "traceback": [
      "\u001b[0;31m---------------------------------------------------------------------------\u001b[0m",
      "\u001b[0;31mModuleNotFoundError\u001b[0m                       Traceback (most recent call last)",
      "\u001b[0;32m<ipython-input-18-7254bbad3ec3>\u001b[0m in \u001b[0;36m<module>\u001b[0;34m\u001b[0m\n\u001b[1;32m      1\u001b[0m \u001b[0;31m#go to Part II href link.  Start with OCIJ policy manual\u001b[0m\u001b[0;34m\u001b[0m\u001b[0;34m\u001b[0m\u001b[0;34m\u001b[0m\u001b[0m\n\u001b[1;32m      2\u001b[0m \u001b[0;34m\u001b[0m\u001b[0m\n\u001b[0;32m----> 3\u001b[0;31m \u001b[0;32mfrom\u001b[0m \u001b[0mrequests_html\u001b[0m \u001b[0;32mimport\u001b[0m \u001b[0mHTMLSession\u001b[0m\u001b[0;34m\u001b[0m\u001b[0;34m\u001b[0m\u001b[0m\n\u001b[0m\u001b[1;32m      4\u001b[0m \u001b[0;32mfrom\u001b[0m \u001b[0mbs4\u001b[0m \u001b[0;32mimport\u001b[0m \u001b[0mBeautifulSoup\u001b[0m\u001b[0;34m\u001b[0m\u001b[0;34m\u001b[0m\u001b[0m\n\u001b[1;32m      5\u001b[0m \u001b[0;34m\u001b[0m\u001b[0m\n",
      "\u001b[0;31mModuleNotFoundError\u001b[0m: No module named 'requests_html'"
     ]
    }
   ],
   "source": [
    "#go to Part II href link.  Start with OCIJ policy manual\n",
    "\n",
    "from requests_html import HTMLSession\n",
    "from bs4 import BeautifulSoup\n",
    "\n",
    "s = HTMLSession()\n",
    "url = 'https://www.justice.gov/eoir/eoir-policy-manual'\n",
    "\n",
    "def getdata(url):\n",
    "    r = s.get(url)\n",
    "    soup = BeautifulSoup(r.text,'html.parser')\n",
    "    return soup\n",
    "\n",
    "print(getdata(url))"
   ]
  },
  {
   "cell_type": "code",
   "execution_count": null,
   "id": "c9e164c5",
   "metadata": {},
   "outputs": [],
   "source": []
  }
 ],
 "metadata": {
  "kernelspec": {
   "display_name": "Python 3",
   "language": "python",
   "name": "python3"
  },
  "language_info": {
   "codemirror_mode": {
    "name": "ipython",
    "version": 3
   },
   "file_extension": ".py",
   "mimetype": "text/x-python",
   "name": "python",
   "nbconvert_exporter": "python",
   "pygments_lexer": "ipython3",
   "version": "3.8.8"
  }
 },
 "nbformat": 4,
 "nbformat_minor": 5
}
